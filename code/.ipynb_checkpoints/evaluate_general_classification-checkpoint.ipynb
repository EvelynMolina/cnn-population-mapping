{
 "cells": [
  {
   "cell_type": "code",
   "execution_count": 1,
   "metadata": {},
   "outputs": [],
   "source": [
    "%matplotlib inline\n",
    "from __future__ import absolute_import\n",
    "from __future__ import division\n",
    "from __future__ import print_function\n",
    "\n",
    "import math\n",
    "import argparse\n",
    "import pandas as pd\n",
    "import numpy as np\n",
    "\n",
    "import tensorflow as tf\n",
    "import tensorflow.contrib.slim as slim\n",
    "\n",
    "import matplotlib.pyplot as plt\n",
    "from sklearn.metrics import mean_squared_error, r2_score, accuracy_score\n",
    "from scipy.stats import pearsonr\n",
    "\n",
    "import data_input_jpg as dataset"
   ]
  },
  {
   "cell_type": "markdown",
   "metadata": {},
   "source": [
    "## Evaluation Configurations"
   ]
  },
  {
   "cell_type": "code",
   "execution_count": 2,
   "metadata": {},
   "outputs": [],
   "source": [
    "# import vgg_deep_combo as vgg\n",
    "# import vgg_shallow_combo as vgg\n",
    "from tensorflow.contrib.slim.python.slim.nets import vgg\n",
    "ISCOMBO = False\n",
    "# ANNOS_CSV = '/home/timhu/data/state24_jpgpaths_clean_17k_May17.csv'\n",
    "ANNOS_CSV = '/home/timhu/data/all_jpgpaths_classification_clean_538k_Sep1.csv'\n",
    "DATA = 'l8' #l8s1, l8, s1\n",
    "JPG_DIR = '/home/timhu/data/all_jpg/'\n",
    "LOG_DIR = '/home/timhu/logs/classification_l8_allstate_lr-5_decay-1_wd5e-3_drop08_vgg_Sep1'\n",
    "CKPT = LOG_DIR + '/model.ckpt-38185'\n",
    "IMAGE_HEIGHT = 224 \n",
    "IMAGE_WIDTH = 224\n",
    "IMAGE_CHANNEL = 3\n",
    "FLAGS = argparse.Namespace(dropout_keep= 0.8,\n",
    "                           batch_size= 1, # for eval, go through one by one\n",
    "                           output_size = 12) # embedding size or class number "
   ]
  },
  {
   "cell_type": "markdown",
   "metadata": {},
   "source": [
    "## Data/Model Loading"
   ]
  },
  {
   "cell_type": "code",
   "execution_count": 3,
   "metadata": {},
   "outputs": [
    {
     "data": {
      "text/html": [
       "<div>\n",
       "<style>\n",
       "    .dataframe thead tr:only-child th {\n",
       "        text-align: right;\n",
       "    }\n",
       "\n",
       "    .dataframe thead th {\n",
       "        text-align: left;\n",
       "    }\n",
       "\n",
       "    .dataframe tbody tr th {\n",
       "        vertical-align: top;\n",
       "    }\n",
       "</style>\n",
       "<table border=\"1\" class=\"dataframe\">\n",
       "  <thead>\n",
       "    <tr style=\"text-align: right;\">\n",
       "      <th></th>\n",
       "      <th>village_id</th>\n",
       "      <th>state_id</th>\n",
       "      <th>district_id</th>\n",
       "      <th>subdistrict_id</th>\n",
       "      <th>secc_pop</th>\n",
       "      <th>secc_pop_scaled</th>\n",
       "      <th>area</th>\n",
       "      <th>longitude</th>\n",
       "      <th>latitude</th>\n",
       "      <th>pop_density</th>\n",
       "      <th>pop_density_log2</th>\n",
       "      <th>partition</th>\n",
       "      <th>l8_vis_path</th>\n",
       "      <th>s1_vis_path</th>\n",
       "      <th>l8_vis_jpg</th>\n",
       "      <th>s1_vis_jpg</th>\n",
       "      <th>pop_density_log2_class</th>\n",
       "    </tr>\n",
       "  </thead>\n",
       "  <tbody>\n",
       "    <tr>\n",
       "      <th>535128</th>\n",
       "      <td>567631</td>\n",
       "      <td>34</td>\n",
       "      <td>637</td>\n",
       "      <td>5915</td>\n",
       "      <td>6737</td>\n",
       "      <td>6049.450048</td>\n",
       "      <td>4.667680e+06</td>\n",
       "      <td>79.792090</td>\n",
       "      <td>10.923974</td>\n",
       "      <td>1443.329506</td>\n",
       "      <td>10.495185</td>\n",
       "      <td>train</td>\n",
       "      <td>l8_median_india_vis/l8_median_india_vis_500x50...</td>\n",
       "      <td>s1_median_india_vis/s1_median_india_vis_500x50...</td>\n",
       "      <td>l8_median_india_vis/l8_median_india_vis_150x15...</td>\n",
       "      <td>s1_median_india_vis/s1_median_india_vis_450x45...</td>\n",
       "      <td>9</td>\n",
       "    </tr>\n",
       "    <tr>\n",
       "      <th>535129</th>\n",
       "      <td>567632</td>\n",
       "      <td>34</td>\n",
       "      <td>637</td>\n",
       "      <td>5915</td>\n",
       "      <td>2260</td>\n",
       "      <td>2035.500015</td>\n",
       "      <td>4.514581e+06</td>\n",
       "      <td>79.757279</td>\n",
       "      <td>10.921364</td>\n",
       "      <td>500.600113</td>\n",
       "      <td>8.967515</td>\n",
       "      <td>train</td>\n",
       "      <td>l8_median_india_vis/l8_median_india_vis_500x50...</td>\n",
       "      <td>s1_median_india_vis/s1_median_india_vis_500x50...</td>\n",
       "      <td>l8_median_india_vis/l8_median_india_vis_150x15...</td>\n",
       "      <td>s1_median_india_vis/s1_median_india_vis_450x45...</td>\n",
       "      <td>7</td>\n",
       "    </tr>\n",
       "    <tr>\n",
       "      <th>535130</th>\n",
       "      <td>567633</td>\n",
       "      <td>34</td>\n",
       "      <td>637</td>\n",
       "      <td>5915</td>\n",
       "      <td>3942</td>\n",
       "      <td>3527.600028</td>\n",
       "      <td>5.891136e+06</td>\n",
       "      <td>79.742833</td>\n",
       "      <td>10.931922</td>\n",
       "      <td>669.140890</td>\n",
       "      <td>9.386166</td>\n",
       "      <td>train</td>\n",
       "      <td>l8_median_india_vis/l8_median_india_vis_500x50...</td>\n",
       "      <td>s1_median_india_vis/s1_median_india_vis_500x50...</td>\n",
       "      <td>l8_median_india_vis/l8_median_india_vis_150x15...</td>\n",
       "      <td>s1_median_india_vis/s1_median_india_vis_450x45...</td>\n",
       "      <td>8</td>\n",
       "    </tr>\n",
       "    <tr>\n",
       "      <th>535131</th>\n",
       "      <td>567634</td>\n",
       "      <td>34</td>\n",
       "      <td>637</td>\n",
       "      <td>5915</td>\n",
       "      <td>2521</td>\n",
       "      <td>2269.200016</td>\n",
       "      <td>3.121377e+06</td>\n",
       "      <td>79.771553</td>\n",
       "      <td>10.917816</td>\n",
       "      <td>807.656442</td>\n",
       "      <td>9.657598</td>\n",
       "      <td>train</td>\n",
       "      <td>l8_median_india_vis/l8_median_india_vis_500x50...</td>\n",
       "      <td>s1_median_india_vis/s1_median_india_vis_500x50...</td>\n",
       "      <td>l8_median_india_vis/l8_median_india_vis_150x15...</td>\n",
       "      <td>s1_median_india_vis/s1_median_india_vis_450x45...</td>\n",
       "      <td>8</td>\n",
       "    </tr>\n",
       "    <tr>\n",
       "      <th>535132</th>\n",
       "      <td>567635</td>\n",
       "      <td>34</td>\n",
       "      <td>637</td>\n",
       "      <td>5915</td>\n",
       "      <td>3197</td>\n",
       "      <td>2873.100021</td>\n",
       "      <td>4.717539e+06</td>\n",
       "      <td>79.793871</td>\n",
       "      <td>10.908532</td>\n",
       "      <td>677.683821</td>\n",
       "      <td>9.404469</td>\n",
       "      <td>train</td>\n",
       "      <td>l8_median_india_vis/l8_median_india_vis_500x50...</td>\n",
       "      <td>s1_median_india_vis/s1_median_india_vis_500x50...</td>\n",
       "      <td>l8_median_india_vis/l8_median_india_vis_150x15...</td>\n",
       "      <td>s1_median_india_vis/s1_median_india_vis_450x45...</td>\n",
       "      <td>8</td>\n",
       "    </tr>\n",
       "  </tbody>\n",
       "</table>\n",
       "</div>"
      ],
      "text/plain": [
       "        village_id  state_id  district_id  subdistrict_id  secc_pop  \\\n",
       "535128      567631        34          637            5915      6737   \n",
       "535129      567632        34          637            5915      2260   \n",
       "535130      567633        34          637            5915      3942   \n",
       "535131      567634        34          637            5915      2521   \n",
       "535132      567635        34          637            5915      3197   \n",
       "\n",
       "        secc_pop_scaled          area  longitude   latitude  pop_density  \\\n",
       "535128      6049.450048  4.667680e+06  79.792090  10.923974  1443.329506   \n",
       "535129      2035.500015  4.514581e+06  79.757279  10.921364   500.600113   \n",
       "535130      3527.600028  5.891136e+06  79.742833  10.931922   669.140890   \n",
       "535131      2269.200016  3.121377e+06  79.771553  10.917816   807.656442   \n",
       "535132      2873.100021  4.717539e+06  79.793871  10.908532   677.683821   \n",
       "\n",
       "        pop_density_log2 partition  \\\n",
       "535128         10.495185     train   \n",
       "535129          8.967515     train   \n",
       "535130          9.386166     train   \n",
       "535131          9.657598     train   \n",
       "535132          9.404469     train   \n",
       "\n",
       "                                              l8_vis_path  \\\n",
       "535128  l8_median_india_vis/l8_median_india_vis_500x50...   \n",
       "535129  l8_median_india_vis/l8_median_india_vis_500x50...   \n",
       "535130  l8_median_india_vis/l8_median_india_vis_500x50...   \n",
       "535131  l8_median_india_vis/l8_median_india_vis_500x50...   \n",
       "535132  l8_median_india_vis/l8_median_india_vis_500x50...   \n",
       "\n",
       "                                              s1_vis_path  \\\n",
       "535128  s1_median_india_vis/s1_median_india_vis_500x50...   \n",
       "535129  s1_median_india_vis/s1_median_india_vis_500x50...   \n",
       "535130  s1_median_india_vis/s1_median_india_vis_500x50...   \n",
       "535131  s1_median_india_vis/s1_median_india_vis_500x50...   \n",
       "535132  s1_median_india_vis/s1_median_india_vis_500x50...   \n",
       "\n",
       "                                               l8_vis_jpg  \\\n",
       "535128  l8_median_india_vis/l8_median_india_vis_150x15...   \n",
       "535129  l8_median_india_vis/l8_median_india_vis_150x15...   \n",
       "535130  l8_median_india_vis/l8_median_india_vis_150x15...   \n",
       "535131  l8_median_india_vis/l8_median_india_vis_150x15...   \n",
       "535132  l8_median_india_vis/l8_median_india_vis_150x15...   \n",
       "\n",
       "                                               s1_vis_jpg  \\\n",
       "535128  s1_median_india_vis/s1_median_india_vis_450x45...   \n",
       "535129  s1_median_india_vis/s1_median_india_vis_450x45...   \n",
       "535130  s1_median_india_vis/s1_median_india_vis_450x45...   \n",
       "535131  s1_median_india_vis/s1_median_india_vis_450x45...   \n",
       "535132  s1_median_india_vis/s1_median_india_vis_450x45...   \n",
       "\n",
       "        pop_density_log2_class  \n",
       "535128                       9  \n",
       "535129                       7  \n",
       "535130                       8  \n",
       "535131                       8  \n",
       "535132                       8  "
      ]
     },
     "execution_count": 3,
     "metadata": {},
     "output_type": "execute_result"
    }
   ],
   "source": [
    "# load annotation CSV\n",
    "df_annos = pd.read_csv(ANNOS_CSV, index_col=0)\n",
    "df_annos.tail()"
   ]
  },
  {
   "cell_type": "code",
   "execution_count": 4,
   "metadata": {},
   "outputs": [
    {
     "name": "stdout",
     "output_type": "stream",
     "text": [
      "total number of test images: 168524\n"
     ]
    }
   ],
   "source": [
    "# load input image file, labels, village_ids, for model inference\n",
    "if DATA == 'l8':\n",
    "    path_col = ['l8_vis_jpg']\n",
    "elif DATA == 's1':\n",
    "    path_col = ['s1_vis_jpg']\n",
    "elif DATA == 'l8s1':\n",
    "    path_col = ['l8_vis_jpg', 's1_vis_jpg']\n",
    "input_files_test = JPG_DIR + df_annos.loc[df_annos.partition != 'train', path_col].values\n",
    "input_labels_test = df_annos.loc[df_annos.partition != 'train', 'pop_density_log2_class'].values\n",
    "input_id_test = df_annos.loc[df_annos.partition != 'train', 'village_id'].values\n",
    "test_size = len(input_id_test)\n",
    "print('total number of test images:', test_size)"
   ]
  },
  {
   "cell_type": "code",
   "execution_count": 5,
   "metadata": {},
   "outputs": [
    {
     "data": {
      "text/html": [
       "<div>\n",
       "<style>\n",
       "    .dataframe thead tr:only-child th {\n",
       "        text-align: right;\n",
       "    }\n",
       "\n",
       "    .dataframe thead th {\n",
       "        text-align: left;\n",
       "    }\n",
       "\n",
       "    .dataframe tbody tr th {\n",
       "        vertical-align: top;\n",
       "    }\n",
       "</style>\n",
       "<table border=\"1\" class=\"dataframe\">\n",
       "  <thead>\n",
       "    <tr style=\"text-align: right;\">\n",
       "      <th></th>\n",
       "      <th>village_id</th>\n",
       "      <th>state_id</th>\n",
       "      <th>district_id</th>\n",
       "      <th>subdistrict_id</th>\n",
       "      <th>area</th>\n",
       "      <th>secc_pop</th>\n",
       "      <th>pop_density</th>\n",
       "      <th>pop_density_log2</th>\n",
       "      <th>pop_density_log2_class</th>\n",
       "    </tr>\n",
       "  </thead>\n",
       "  <tbody>\n",
       "    <tr>\n",
       "      <th>535100</th>\n",
       "      <td>567603</td>\n",
       "      <td>34</td>\n",
       "      <td>635</td>\n",
       "      <td>5912</td>\n",
       "      <td>9.185283</td>\n",
       "      <td>10531</td>\n",
       "      <td>1146.507998</td>\n",
       "      <td>10.163031</td>\n",
       "      <td>9</td>\n",
       "    </tr>\n",
       "    <tr>\n",
       "      <th>535101</th>\n",
       "      <td>567604</td>\n",
       "      <td>34</td>\n",
       "      <td>635</td>\n",
       "      <td>5912</td>\n",
       "      <td>6.147966</td>\n",
       "      <td>6872</td>\n",
       "      <td>1117.768028</td>\n",
       "      <td>10.126405</td>\n",
       "      <td>9</td>\n",
       "    </tr>\n",
       "    <tr>\n",
       "      <th>535102</th>\n",
       "      <td>567605</td>\n",
       "      <td>34</td>\n",
       "      <td>635</td>\n",
       "      <td>5912</td>\n",
       "      <td>3.350477</td>\n",
       "      <td>3568</td>\n",
       "      <td>1064.922968</td>\n",
       "      <td>10.056533</td>\n",
       "      <td>9</td>\n",
       "    </tr>\n",
       "    <tr>\n",
       "      <th>535103</th>\n",
       "      <td>567606</td>\n",
       "      <td>34</td>\n",
       "      <td>635</td>\n",
       "      <td>5912</td>\n",
       "      <td>2.522941</td>\n",
       "      <td>3801</td>\n",
       "      <td>1506.575012</td>\n",
       "      <td>10.557057</td>\n",
       "      <td>9</td>\n",
       "    </tr>\n",
       "    <tr>\n",
       "      <th>535104</th>\n",
       "      <td>567607</td>\n",
       "      <td>34</td>\n",
       "      <td>635</td>\n",
       "      <td>5912</td>\n",
       "      <td>5.561323</td>\n",
       "      <td>6994</td>\n",
       "      <td>1257.614347</td>\n",
       "      <td>10.296474</td>\n",
       "      <td>9</td>\n",
       "    </tr>\n",
       "  </tbody>\n",
       "</table>\n",
       "</div>"
      ],
      "text/plain": [
       "        village_id  state_id  district_id  subdistrict_id      area  secc_pop  \\\n",
       "535100      567603        34          635            5912  9.185283     10531   \n",
       "535101      567604        34          635            5912  6.147966      6872   \n",
       "535102      567605        34          635            5912  3.350477      3568   \n",
       "535103      567606        34          635            5912  2.522941      3801   \n",
       "535104      567607        34          635            5912  5.561323      6994   \n",
       "\n",
       "        pop_density  pop_density_log2  pop_density_log2_class  \n",
       "535100  1146.507998         10.163031                       9  \n",
       "535101  1117.768028         10.126405                       9  \n",
       "535102  1064.922968         10.056533                       9  \n",
       "535103  1506.575012         10.557057                       9  \n",
       "535104  1257.614347         10.296474                       9  "
      ]
     },
     "execution_count": 5,
     "metadata": {},
     "output_type": "execute_result"
    }
   ],
   "source": [
    "#setup predition results table: \n",
    "# village_id, state_id, district_id, subdistrict_id, pop, log_pop, predict_pop, predict_log2_pop\n",
    "df_test = df_annos[df_annos.partition != 'train']\n",
    "df_test = df_test[['village_id','state_id','district_id','subdistrict_id','area', 'secc_pop', 'pop_density','pop_density_log2','pop_density_log2_class']]\n",
    "df_test.area = df_test.area / 1e6 # convert area from m2 to km2\n",
    "df_test.tail()"
   ]
  },
  {
   "cell_type": "code",
   "execution_count": 6,
   "metadata": {},
   "outputs": [
    {
     "name": "stdout",
     "output_type": "stream",
     "text": [
      "INFO:tensorflow:Restoring parameters from /home/timhu/logs/classification_l8_allstate_lr-5_decay-1_wd5e-3_drop08_vgg_Sep1/model.ckpt-38185\n"
     ]
    }
   ],
   "source": [
    "tf.reset_default_graph()\n",
    "sess = tf.Session()\n",
    "with tf.device('/cpu:0'):\n",
    "    test_images_batch, test_labels_batch, test_ids_batch = dataset.input_batches(\n",
    "        FLAGS.batch_size, FLAGS.output_size, input_files_test, input_labels_test, input_id_test,\n",
    "        IMAGE_HEIGHT, IMAGE_WIDTH, IMAGE_CHANNEL, regression=False, augmentation=False, normalization=True)\n",
    "\n",
    "if ISCOMBO:\n",
    "    images_l8_placeholder = tf.placeholder(tf.float32, shape=[None, IMAGE_HEIGHT, IMAGE_WIDTH, 3]) \n",
    "    images_s1_placeholder = tf.placeholder(tf.float32, shape=[None, IMAGE_HEIGHT, IMAGE_WIDTH, 3])\n",
    "else:\n",
    "    images_placeholder = tf.placeholder(tf.float32, shape=[None, IMAGE_HEIGHT, IMAGE_WIDTH, IMAGE_CHANNEL])\n",
    "    \n",
    "labels_placeholder = tf.placeholder(tf.float32, shape=[None, FLAGS.output_size])\n",
    "\n",
    "test_batches = int(test_size / FLAGS.batch_size) # number of training batches/steps in each epoch\n",
    "\n",
    "with slim.arg_scope(vgg.vgg_arg_scope()):\n",
    "    if ISCOMBO:\n",
    "        outputs, _ = vgg.vgg_16(images_l8_placeholder, images_s1_placeholder, num_classes=FLAGS.output_size, \n",
    "                               dropout_keep_prob=FLAGS.dropout_keep, is_training=False)\n",
    "    else:\n",
    "        outputs, _ = vgg.vgg_16(images_placeholder, num_classes=FLAGS.output_size, \n",
    "                                   dropout_keep_prob=FLAGS.dropout_keep, is_training=False)\n",
    "\n",
    "init = tf.global_variables_initializer()\n",
    "sess.run(init)\n",
    "restorer = tf.train.Saver()\n",
    "restorer.restore(sess, CKPT)"
   ]
  },
  {
   "cell_type": "markdown",
   "metadata": {},
   "source": [
    "## Model Inference (by default batch_size = 1)"
   ]
  },
  {
   "cell_type": "code",
   "execution_count": 7,
   "metadata": {
    "scrolled": true
   },
   "outputs": [
    {
     "name": "stdout",
     "output_type": "stream",
     "text": [
      "finish batches: 0\n",
      "finish batches: 1000\n",
      "finish batches: 2000\n",
      "finish batches: 3000\n",
      "finish batches: 4000\n",
      "finish batches: 5000\n",
      "finish batches: 6000\n",
      "finish batches: 7000\n",
      "finish batches: 8000\n",
      "finish batches: 9000\n",
      "finish batches: 10000\n",
      "finish batches: 11000\n",
      "finish batches: 12000\n",
      "finish batches: 13000\n",
      "finish batches: 14000\n",
      "finish batches: 15000\n",
      "finish batches: 16000\n",
      "finish batches: 17000\n",
      "finish batches: 18000\n",
      "finish batches: 19000\n",
      "finish batches: 20000\n",
      "finish batches: 21000\n",
      "finish batches: 22000\n",
      "finish batches: 23000\n",
      "finish batches: 24000\n",
      "finish batches: 25000\n",
      "finish batches: 26000\n",
      "finish batches: 27000\n",
      "finish batches: 28000\n",
      "finish batches: 29000\n",
      "finish batches: 30000\n",
      "finish batches: 31000\n",
      "finish batches: 32000\n",
      "finish batches: 33000\n",
      "finish batches: 34000\n",
      "finish batches: 35000\n",
      "finish batches: 36000\n",
      "finish batches: 37000\n",
      "finish batches: 38000\n",
      "finish batches: 39000\n",
      "finish batches: 40000\n",
      "finish batches: 41000\n",
      "finish batches: 42000\n",
      "finish batches: 43000\n",
      "finish batches: 44000\n",
      "finish batches: 45000\n",
      "finish batches: 46000\n",
      "finish batches: 47000\n",
      "finish batches: 48000\n",
      "finish batches: 49000\n",
      "finish batches: 50000\n",
      "finish batches: 51000\n",
      "finish batches: 52000\n",
      "finish batches: 53000\n",
      "finish batches: 54000\n",
      "finish batches: 55000\n",
      "finish batches: 56000\n",
      "finish batches: 57000\n",
      "finish batches: 58000\n",
      "finish batches: 59000\n",
      "finish batches: 60000\n",
      "finish batches: 61000\n",
      "finish batches: 62000\n",
      "finish batches: 63000\n",
      "finish batches: 64000\n",
      "finish batches: 65000\n",
      "finish batches: 66000\n",
      "finish batches: 67000\n",
      "finish batches: 68000\n",
      "finish batches: 69000\n",
      "finish batches: 70000\n",
      "finish batches: 71000\n",
      "finish batches: 72000\n",
      "finish batches: 73000\n",
      "finish batches: 74000\n",
      "finish batches: 75000\n",
      "finish batches: 76000\n",
      "finish batches: 77000\n",
      "finish batches: 78000\n",
      "finish batches: 79000\n",
      "finish batches: 80000\n",
      "finish batches: 81000\n",
      "finish batches: 82000\n",
      "finish batches: 83000\n",
      "finish batches: 84000\n",
      "finish batches: 85000\n",
      "finish batches: 86000\n",
      "finish batches: 87000\n",
      "finish batches: 88000\n",
      "finish batches: 89000\n",
      "finish batches: 90000\n",
      "finish batches: 91000\n",
      "finish batches: 92000\n",
      "finish batches: 93000\n",
      "finish batches: 94000\n",
      "finish batches: 95000\n",
      "finish batches: 96000\n",
      "finish batches: 97000\n",
      "finish batches: 98000\n",
      "finish batches: 99000\n",
      "finish batches: 100000\n",
      "finish batches: 101000\n",
      "finish batches: 102000\n",
      "finish batches: 103000\n",
      "finish batches: 104000\n",
      "finish batches: 105000\n",
      "finish batches: 106000\n",
      "finish batches: 107000\n",
      "finish batches: 108000\n",
      "finish batches: 109000\n",
      "finish batches: 110000\n",
      "finish batches: 111000\n",
      "finish batches: 112000\n",
      "finish batches: 113000\n",
      "finish batches: 114000\n",
      "finish batches: 115000\n",
      "finish batches: 116000\n",
      "finish batches: 117000\n",
      "finish batches: 118000\n",
      "finish batches: 119000\n",
      "finish batches: 120000\n",
      "finish batches: 121000\n",
      "finish batches: 122000\n",
      "finish batches: 123000\n",
      "finish batches: 124000\n",
      "finish batches: 125000\n",
      "finish batches: 126000\n",
      "finish batches: 127000\n",
      "finish batches: 128000\n",
      "finish batches: 129000\n",
      "finish batches: 130000\n",
      "finish batches: 131000\n",
      "finish batches: 132000\n",
      "finish batches: 133000\n",
      "finish batches: 134000\n",
      "finish batches: 135000\n",
      "finish batches: 136000\n",
      "finish batches: 137000\n",
      "finish batches: 138000\n",
      "finish batches: 139000\n",
      "finish batches: 140000\n",
      "finish batches: 141000\n",
      "finish batches: 142000\n",
      "finish batches: 143000\n",
      "finish batches: 144000\n",
      "finish batches: 145000\n",
      "finish batches: 146000\n",
      "finish batches: 147000\n",
      "finish batches: 148000\n",
      "finish batches: 149000\n",
      "finish batches: 150000\n",
      "finish batches: 151000\n",
      "finish batches: 152000\n",
      "finish batches: 153000\n",
      "finish batches: 154000\n",
      "finish batches: 155000\n",
      "finish batches: 156000\n",
      "finish batches: 157000\n",
      "finish batches: 158000\n",
      "finish batches: 159000\n",
      "finish batches: 160000\n",
      "finish batches: 161000\n",
      "finish batches: 162000\n",
      "finish batches: 163000\n",
      "finish batches: 164000\n",
      "finish batches: 165000\n",
      "finish batches: 166000\n",
      "finish batches: 167000\n",
      "finish batches: 168000\n"
     ]
    }
   ],
   "source": [
    "infe_class_out = []\n",
    "infe_ids = []\n",
    "\n",
    "for step in range(test_batches):\n",
    "    if  step % 1000 == 0:\n",
    "        print('finish batches:', step)\n",
    "    images_out, labels_out, ids_out = sess.run([test_images_batch, test_labels_batch, test_ids_batch])\n",
    "    if ISCOMBO:\n",
    "        feed_dict = {images_l8_placeholder: images_out[:,:,:,:3],images_s1_placeholder: images_out[:,:,:,3:],\n",
    "                     labels_placeholder: labels_out}\n",
    "    else:\n",
    "        feed_dict = {images_placeholder: images_out, labels_placeholder: labels_out}\n",
    "    \n",
    "    out = sess.run(outputs, feed_dict = feed_dict)\n",
    "    infe_class_out.append(np.argmax(out))\n",
    "    infe_ids.append(ids_out[0])"
   ]
  },
  {
   "cell_type": "code",
   "execution_count": 8,
   "metadata": {},
   "outputs": [
    {
     "data": {
      "text/html": [
       "<div>\n",
       "<style>\n",
       "    .dataframe thead tr:only-child th {\n",
       "        text-align: right;\n",
       "    }\n",
       "\n",
       "    .dataframe thead th {\n",
       "        text-align: left;\n",
       "    }\n",
       "\n",
       "    .dataframe tbody tr th {\n",
       "        vertical-align: top;\n",
       "    }\n",
       "</style>\n",
       "<table border=\"1\" class=\"dataframe\">\n",
       "  <thead>\n",
       "    <tr style=\"text-align: right;\">\n",
       "      <th></th>\n",
       "      <th>village_id</th>\n",
       "      <th>state_id</th>\n",
       "      <th>district_id</th>\n",
       "      <th>subdistrict_id</th>\n",
       "      <th>area</th>\n",
       "      <th>secc_pop</th>\n",
       "      <th>pop_density</th>\n",
       "      <th>pop_density_log2</th>\n",
       "      <th>pop_density_log2_class</th>\n",
       "      <th>pred_log2_density_class</th>\n",
       "      <th>pre_density</th>\n",
       "    </tr>\n",
       "  </thead>\n",
       "  <tbody>\n",
       "    <tr>\n",
       "      <th>0</th>\n",
       "      <td>872</td>\n",
       "      <td>1</td>\n",
       "      <td>3</td>\n",
       "      <td>11</td>\n",
       "      <td>77.206010</td>\n",
       "      <td>425</td>\n",
       "      <td>5.504753</td>\n",
       "      <td>2.460678</td>\n",
       "      <td>1</td>\n",
       "      <td>3</td>\n",
       "      <td>24.0</td>\n",
       "    </tr>\n",
       "    <tr>\n",
       "      <th>1</th>\n",
       "      <td>875</td>\n",
       "      <td>1</td>\n",
       "      <td>3</td>\n",
       "      <td>11</td>\n",
       "      <td>58.059323</td>\n",
       "      <td>1004</td>\n",
       "      <td>17.292658</td>\n",
       "      <td>4.112088</td>\n",
       "      <td>3</td>\n",
       "      <td>5</td>\n",
       "      <td>96.0</td>\n",
       "    </tr>\n",
       "    <tr>\n",
       "      <th>2</th>\n",
       "      <td>1034</td>\n",
       "      <td>1</td>\n",
       "      <td>5</td>\n",
       "      <td>16</td>\n",
       "      <td>32.329849</td>\n",
       "      <td>1501</td>\n",
       "      <td>46.427683</td>\n",
       "      <td>5.536913</td>\n",
       "      <td>4</td>\n",
       "      <td>7</td>\n",
       "      <td>384.0</td>\n",
       "    </tr>\n",
       "    <tr>\n",
       "      <th>3</th>\n",
       "      <td>1035</td>\n",
       "      <td>1</td>\n",
       "      <td>5</td>\n",
       "      <td>16</td>\n",
       "      <td>10.938865</td>\n",
       "      <td>3384</td>\n",
       "      <td>309.355681</td>\n",
       "      <td>8.273123</td>\n",
       "      <td>7</td>\n",
       "      <td>6</td>\n",
       "      <td>192.0</td>\n",
       "    </tr>\n",
       "    <tr>\n",
       "      <th>4</th>\n",
       "      <td>1036</td>\n",
       "      <td>1</td>\n",
       "      <td>5</td>\n",
       "      <td>16</td>\n",
       "      <td>2.322661</td>\n",
       "      <td>1669</td>\n",
       "      <td>718.572227</td>\n",
       "      <td>9.488989</td>\n",
       "      <td>8</td>\n",
       "      <td>6</td>\n",
       "      <td>192.0</td>\n",
       "    </tr>\n",
       "  </tbody>\n",
       "</table>\n",
       "</div>"
      ],
      "text/plain": [
       "   village_id  state_id  district_id  subdistrict_id       area  secc_pop  \\\n",
       "0         872         1            3              11  77.206010       425   \n",
       "1         875         1            3              11  58.059323      1004   \n",
       "2        1034         1            5              16  32.329849      1501   \n",
       "3        1035         1            5              16  10.938865      3384   \n",
       "4        1036         1            5              16   2.322661      1669   \n",
       "\n",
       "   pop_density  pop_density_log2  pop_density_log2_class  \\\n",
       "0     5.504753          2.460678                       1   \n",
       "1    17.292658          4.112088                       3   \n",
       "2    46.427683          5.536913                       4   \n",
       "3   309.355681          8.273123                       7   \n",
       "4   718.572227          9.488989                       8   \n",
       "\n",
       "   pred_log2_density_class  pre_density  \n",
       "0                        3         24.0  \n",
       "1                        5         96.0  \n",
       "2                        7        384.0  \n",
       "3                        6        192.0  \n",
       "4                        6        192.0  "
      ]
     },
     "execution_count": 8,
     "metadata": {},
     "output_type": "execute_result"
    }
   ],
   "source": [
    "# merge inference results with prediction table \n",
    "df_pred = pd.DataFrame({'village_id': infe_ids, 'pred_log2_density_class': infe_class_out})\n",
    "df_res = pd.merge(df_test, df_pred, on='village_id', how = 'left')\n",
    "df_res['pre_density'] = (2**(df_res.pred_log2_density_class+1) + 2**(df_res.pred_log2_density_class+2))/2\n",
    "df_res.head()"
   ]
  },
  {
   "cell_type": "code",
   "execution_count": 9,
   "metadata": {},
   "outputs": [],
   "source": [
    "df_res.to_csv(LOG_DIR + '_more_eval.csv')"
   ]
  },
  {
   "cell_type": "markdown",
   "metadata": {},
   "source": [
    "## Evaluation Plots/Stats"
   ]
  },
  {
   "cell_type": "markdown",
   "metadata": {},
   "source": [
    "### map visual eval"
   ]
  },
  {
   "cell_type": "code",
   "execution_count": 3,
   "metadata": {},
   "outputs": [],
   "source": [
    "df_res = pd.read_csv(LOG_DIR + '_more_eval.csv')"
   ]
  },
  {
   "cell_type": "code",
   "execution_count": 4,
   "metadata": {},
   "outputs": [],
   "source": [
    "df_res['pred_pop'] = df_res.pre_density * df_res.area\n",
    "df_district = df_res.groupby('district_id')['secc_pop', 'pred_pop','area'].agg(np.sum)\n",
    "df_district['error'] = (df_district.pred_pop - df_district.secc_pop) / df_district.secc_pop"
   ]
  },
  {
   "cell_type": "code",
   "execution_count": 5,
   "metadata": {
    "scrolled": false
   },
   "outputs": [
    {
     "name": "stdout",
     "output_type": "stream",
     "text": [
      "533\n",
      "0.256510702616\n"
     ]
    },
    {
     "data": {
      "text/html": [
       "<div>\n",
       "<style>\n",
       "    .dataframe thead tr:only-child th {\n",
       "        text-align: right;\n",
       "    }\n",
       "\n",
       "    .dataframe thead th {\n",
       "        text-align: left;\n",
       "    }\n",
       "\n",
       "    .dataframe tbody tr th {\n",
       "        vertical-align: top;\n",
       "    }\n",
       "</style>\n",
       "<table border=\"1\" class=\"dataframe\">\n",
       "  <thead>\n",
       "    <tr style=\"text-align: right;\">\n",
       "      <th></th>\n",
       "      <th>secc_pop</th>\n",
       "      <th>pred_pop</th>\n",
       "      <th>area</th>\n",
       "      <th>error</th>\n",
       "    </tr>\n",
       "    <tr>\n",
       "      <th>district_id</th>\n",
       "      <th></th>\n",
       "      <th></th>\n",
       "      <th></th>\n",
       "      <th></th>\n",
       "    </tr>\n",
       "  </thead>\n",
       "  <tbody>\n",
       "    <tr>\n",
       "      <th>3</th>\n",
       "      <td>1429</td>\n",
       "      <td>7426.639241</td>\n",
       "      <td>135.265333</td>\n",
       "      <td>4.197088</td>\n",
       "    </tr>\n",
       "    <tr>\n",
       "      <th>5</th>\n",
       "      <td>233124</td>\n",
       "      <td>240636.673289</td>\n",
       "      <td>901.191666</td>\n",
       "      <td>0.032226</td>\n",
       "    </tr>\n",
       "    <tr>\n",
       "      <th>6</th>\n",
       "      <td>298471</td>\n",
       "      <td>324962.653889</td>\n",
       "      <td>1447.229202</td>\n",
       "      <td>0.088758</td>\n",
       "    </tr>\n",
       "    <tr>\n",
       "      <th>7</th>\n",
       "      <td>209810</td>\n",
       "      <td>279564.591752</td>\n",
       "      <td>993.345545</td>\n",
       "      <td>0.332466</td>\n",
       "    </tr>\n",
       "    <tr>\n",
       "      <th>8</th>\n",
       "      <td>210987</td>\n",
       "      <td>265167.930477</td>\n",
       "      <td>372.379575</td>\n",
       "      <td>0.256797</td>\n",
       "    </tr>\n",
       "  </tbody>\n",
       "</table>\n",
       "</div>"
      ],
      "text/plain": [
       "             secc_pop       pred_pop         area     error\n",
       "district_id                                                \n",
       "3                1429    7426.639241   135.265333  4.197088\n",
       "5              233124  240636.673289   901.191666  0.032226\n",
       "6              298471  324962.653889  1447.229202  0.088758\n",
       "7              209810  279564.591752   993.345545  0.332466\n",
       "8              210987  265167.930477   372.379575  0.256797"
      ]
     },
     "execution_count": 5,
     "metadata": {},
     "output_type": "execute_result"
    }
   ],
   "source": [
    "print(len(df_district))\n",
    "print(np.mean(np.abs(df_district.error)))\n",
    "df_district.head()"
   ]
  },
  {
   "cell_type": "code",
   "execution_count": 6,
   "metadata": {},
   "outputs": [],
   "source": [
    "df_district.to_csv(LOG_DIR + '_district_error.csv')"
   ]
  },
  {
   "cell_type": "markdown",
   "metadata": {},
   "source": [
    "### 0. raw log2 density  "
   ]
  },
  {
   "cell_type": "code",
   "execution_count": 7,
   "metadata": {},
   "outputs": [],
   "source": [
    "df_res = pd.read_csv(LOG_DIR + '_more_eval.csv')\n",
    "df_res['pred_log2_density'] = np.log2(df_res.pre_density.values)"
   ]
  },
  {
   "cell_type": "code",
   "execution_count": 8,
   "metadata": {},
   "outputs": [
    {
     "name": "stdout",
     "output_type": "stream",
     "text": [
      "0.3218790544\n",
      "0.591620472339\n"
     ]
    }
   ],
   "source": [
    "r2 = r2_score(df_res.pop_density_log2.values, df_res.pred_log2_density.values)\n",
    "p = pearsonr(df_res.pop_density_log2.values, df_res.pred_log2_density.values)[0]\n",
    "print(r2)\n",
    "print(p)"
   ]
  },
  {
   "cell_type": "code",
   "execution_count": 9,
   "metadata": {},
   "outputs": [
    {
     "data": {
      "image/png": "[encoded data removed]",
      "text/plain": [
       "<matplotlib.figure.Figure at 0x7f7e990ffa20>"
      ]
     },
     "metadata": {},
     "output_type": "display_data"
    }
   ],
   "source": [
    "plt.title(\"Per Village log2 Population Density\")\n",
    "plt.ylabel(\"Predicted log2 population densities /km2\")\n",
    "plt.xlabel(\"True log2 population densities /km2\")\n",
    "\n",
    "plt.figtext(0.7, 0.2, \"r2 = %.3f\" % r2)\n",
    "plt.figtext(0.7, 0.15, \"Pearson = %.3f\" % p)\n",
    "plt.scatter(df_res.pop_density_log2.values, df_res.pred_log2_density.values, alpha=0.01)\n",
    "plt.show()"
   ]
  },
  {
   "cell_type": "markdown",
   "metadata": {},
   "source": [
    "### 1. Direct Sum Aggregation comparison"
   ]
  },
  {
   "cell_type": "code",
   "execution_count": 10,
   "metadata": {},
   "outputs": [],
   "source": [
    "df_direct_log2_sum = df_res.groupby('subdistrict_id')['pop_density_log2', 'pred_log2_density'].agg(np.sum)\n",
    "true_subdistrict_vals = df_direct_log2_sum.pop_density_log2.values\n",
    "pred_subdistrict_vals = df_direct_log2_sum.pred_log2_density.values"
   ]
  },
  {
   "cell_type": "code",
   "execution_count": 11,
   "metadata": {},
   "outputs": [
    {
     "data": {
      "image/png": "[encoded data removed]",
      "text/plain": [
       "<matplotlib.figure.Figure at 0x7f7e9903c9e8>"
      ]
     },
     "metadata": {},
     "output_type": "display_data"
    }
   ],
   "source": [
    "plt.title(\"Direct Sum Aggregation of log2 population density on subdistrict level\")\n",
    "plt.ylabel(\"Sum of Predicted subdistrict densities (log 2)\")\n",
    "plt.xlabel(\"Sum of True subdistrict densities (log 2)\")\n",
    "r2 = r2_score(true_subdistrict_vals, pred_subdistrict_vals)\n",
    "p = pearsonr(true_subdistrict_vals, pred_subdistrict_vals)[0]\n",
    "plt.figtext(0.7, 0.2, \"r2 = %.3f\" % r2)\n",
    "plt.figtext(0.7, 0.15, \"Pearson = %.3f\" % p)\n",
    "plt.scatter(true_subdistrict_vals, pred_subdistrict_vals, alpha=0.5)\n",
    "plt.show()"
   ]
  },
  {
   "cell_type": "markdown",
   "metadata": {},
   "source": [
    "This uses the same methods as the plot shown in the presentation at the end of quarter. The comparison of population density between predition and ground-truth is on subdistrict level, and taking the direct sum of each log2 density value from each subdistrict. It might not be a valid comparison, because each village has log2 density in a very small range (6-9), the values on subdistricts level are quite depend on the number of villages within it. With more villages in one subdistrict, the aggregated log2 value would increase proportionaly. \n",
    "\n",
    "It would be better to compare the average population density on subdistricts."
   ]
  },
  {
   "cell_type": "markdown",
   "metadata": {},
   "source": [
    "### 2. Direct Average Aggregation comparison"
   ]
  },
  {
   "cell_type": "code",
   "execution_count": 12,
   "metadata": {},
   "outputs": [],
   "source": [
    "df_direct_log2_ave = df_res.groupby('subdistrict_id')['pop_density_log2', 'pred_log2_density'].agg(np.mean)\n",
    "true_subdistrict_vals = df_direct_log2_ave.pop_density_log2.values\n",
    "pred_subdistrict_vals = df_direct_log2_ave.pred_log2_density.values"
   ]
  },
  {
   "cell_type": "code",
   "execution_count": 14,
   "metadata": {
    "scrolled": false
   },
   "outputs": [
    {
     "data": {
      "image/png": "[encoded data removed]",
      "text/plain": [
       "<matplotlib.figure.Figure at 0x7f7e98f562e8>"
      ]
     },
     "metadata": {},
     "output_type": "display_data"
    }
   ],
   "source": [
    "plt.title(\"Average Aggregation of log2 Population Density on Subdistrict Level\")\n",
    "plt.ylabel(\"Average Predicted subdistrict log2 densities\")\n",
    "plt.xlabel(\"Average True subdistrict log2 densities /km2\")\n",
    "r2 = r2_score(true_subdistrict_vals, pred_subdistrict_vals)\n",
    "p = pearsonr(true_subdistrict_vals, pred_subdistrict_vals)[0]\n",
    "plt.figtext(0.7, 0.2, \"r2 = %.3f\" % r2)\n",
    "plt.figtext(0.7, 0.15, \"Pearson = %.3f\" % p)\n",
    "plt.scatter(true_subdistrict_vals, pred_subdistrict_vals, alpha=0.5)\n",
    "plt.show()"
   ]
  },
  {
   "cell_type": "markdown",
   "metadata": {},
   "source": [
    "### 3. Weighted Average Aggregation comparison"
   ]
  },
  {
   "cell_type": "code",
   "execution_count": 19,
   "metadata": {},
   "outputs": [
    {
     "data": {
      "text/html": [
       "<div>\n",
       "<style>\n",
       "    .dataframe thead tr:only-child th {\n",
       "        text-align: right;\n",
       "    }\n",
       "\n",
       "    .dataframe thead th {\n",
       "        text-align: left;\n",
       "    }\n",
       "\n",
       "    .dataframe tbody tr th {\n",
       "        vertical-align: top;\n",
       "    }\n",
       "</style>\n",
       "<table border=\"1\" class=\"dataframe\">\n",
       "  <thead>\n",
       "    <tr style=\"text-align: right;\">\n",
       "      <th></th>\n",
       "      <th>secc_pop</th>\n",
       "      <th>pred_pop</th>\n",
       "      <th>area</th>\n",
       "      <th>secc_pop_density</th>\n",
       "      <th>pred_pop_density</th>\n",
       "      <th>secc_pop_density_log2</th>\n",
       "      <th>pred_pop_density_log2</th>\n",
       "    </tr>\n",
       "    <tr>\n",
       "      <th>subdistrict_id</th>\n",
       "      <th></th>\n",
       "      <th></th>\n",
       "      <th></th>\n",
       "      <th></th>\n",
       "      <th></th>\n",
       "      <th></th>\n",
       "      <th></th>\n",
       "    </tr>\n",
       "  </thead>\n",
       "  <tbody>\n",
       "    <tr>\n",
       "      <th>11</th>\n",
       "      <td>1429</td>\n",
       "      <td>7426.639241</td>\n",
       "      <td>135.265333</td>\n",
       "      <td>10.564422</td>\n",
       "      <td>54.904232</td>\n",
       "      <td>3.401142</td>\n",
       "      <td>5.778845</td>\n",
       "    </tr>\n",
       "    <tr>\n",
       "      <th>16</th>\n",
       "      <td>103080</td>\n",
       "      <td>89598.128650</td>\n",
       "      <td>288.169270</td>\n",
       "      <td>357.706427</td>\n",
       "      <td>310.921871</td>\n",
       "      <td>8.482632</td>\n",
       "      <td>8.280408</td>\n",
       "    </tr>\n",
       "    <tr>\n",
       "      <th>18</th>\n",
       "      <td>130044</td>\n",
       "      <td>151038.544640</td>\n",
       "      <td>613.022396</td>\n",
       "      <td>212.135806</td>\n",
       "      <td>246.383404</td>\n",
       "      <td>7.728844</td>\n",
       "      <td>7.944761</td>\n",
       "    </tr>\n",
       "    <tr>\n",
       "      <th>22</th>\n",
       "      <td>161483</td>\n",
       "      <td>100234.011807</td>\n",
       "      <td>510.430255</td>\n",
       "      <td>316.366435</td>\n",
       "      <td>196.371611</td>\n",
       "      <td>8.305453</td>\n",
       "      <td>7.617443</td>\n",
       "    </tr>\n",
       "    <tr>\n",
       "      <th>25</th>\n",
       "      <td>76847</td>\n",
       "      <td>141626.381721</td>\n",
       "      <td>611.582001</td>\n",
       "      <td>125.652815</td>\n",
       "      <td>231.573823</td>\n",
       "      <td>6.973299</td>\n",
       "      <td>7.855328</td>\n",
       "    </tr>\n",
       "  </tbody>\n",
       "</table>\n",
       "</div>"
      ],
      "text/plain": [
       "                secc_pop       pred_pop        area  secc_pop_density  \\\n",
       "subdistrict_id                                                          \n",
       "11                  1429    7426.639241  135.265333         10.564422   \n",
       "16                103080   89598.128650  288.169270        357.706427   \n",
       "18                130044  151038.544640  613.022396        212.135806   \n",
       "22                161483  100234.011807  510.430255        316.366435   \n",
       "25                 76847  141626.381721  611.582001        125.652815   \n",
       "\n",
       "                pred_pop_density  secc_pop_density_log2  pred_pop_density_log2  \n",
       "subdistrict_id                                                                  \n",
       "11                     54.904232               3.401142               5.778845  \n",
       "16                    310.921871               8.482632               8.280408  \n",
       "18                    246.383404               7.728844               7.944761  \n",
       "22                    196.371611               8.305453               7.617443  \n",
       "25                    231.573823               6.973299               7.855328  "
      ]
     },
     "execution_count": 19,
     "metadata": {},
     "output_type": "execute_result"
    }
   ],
   "source": [
    "df_res['pred_pop'] = df_res.pre_density * df_res.area\n",
    "df_weighted_sum = df_res.groupby('subdistrict_id')['secc_pop', 'pred_pop','area'].agg(np.sum)\n",
    "df_weighted_sum['secc_pop_density'] = df_weighted_sum.secc_pop / df_weighted_sum.area\n",
    "df_weighted_sum['pred_pop_density'] = df_weighted_sum.pred_pop / df_weighted_sum.area\n",
    "df_weighted_sum['secc_pop_density_log2'] = np.log2(df_weighted_sum.secc_pop_density)\n",
    "df_weighted_sum['pred_pop_density_log2'] = np.log2(df_weighted_sum.pred_pop_density)\n",
    "df_weighted_sum.head()"
   ]
  },
  {
   "cell_type": "code",
   "execution_count": 16,
   "metadata": {},
   "outputs": [
    {
     "data": {
      "image/png": "[encoded data removed]",
      "text/plain": [
       "<matplotlib.figure.Figure at 0x7f7e976fd160>"
      ]
     },
     "metadata": {},
     "output_type": "display_data"
    },
    {
     "name": "stdout",
     "output_type": "stream",
     "text": [
      "0.773226967548\n"
     ]
    }
   ],
   "source": [
    "true_subdistrict_vals = df_weighted_sum.secc_pop_density.values\n",
    "pred_subdistrict_vals = df_weighted_sum.pred_pop_density.values\n",
    "plt.title(\"Weighted Real Population Density on Subdistrict Level\")\n",
    "plt.ylabel(\"Weighted predicted subdistrict densities\")\n",
    "plt.xlabel(\"Weighted true Subdistrict densities /km2\")\n",
    "r2 = r2_score(true_subdistrict_vals, pred_subdistrict_vals)\n",
    "p = pearsonr(true_subdistrict_vals, pred_subdistrict_vals)[0]\n",
    "plt.figtext(0.7, 0.2, \"r2 = %.3f\" % r2)\n",
    "plt.figtext(0.7, 0.15, \"Pearson = %.3f\" % p)\n",
    "plt.scatter(true_subdistrict_vals, pred_subdistrict_vals, alpha=0.5)\n",
    "plt.show()\n",
    "print(r2)"
   ]
  },
  {
   "cell_type": "code",
   "execution_count": 17,
   "metadata": {},
   "outputs": [
    {
     "name": "stdout",
     "output_type": "stream",
     "text": [
      "0.849551847154 0.936954197491\n"
     ]
    },
    {
     "data": {
      "image/png": "[encoded data removed]",
      "text/plain": [
       "<matplotlib.figure.Figure at 0x7f7e97637198>"
      ]
     },
     "metadata": {},
     "output_type": "display_data"
    }
   ],
   "source": [
    "true_subdistrict_vals = df_weighted_sum.secc_pop.values\n",
    "pred_subdistrict_vals = df_weighted_sum.pred_pop.values\n",
    "plt.title(\"Aggregated Total Population on Subdistrict Level\")\n",
    "plt.ylabel(\"Aggregated Predicted Population\")\n",
    "plt.xlabel(\"Aggregated True Population\")\n",
    "r2 = r2_score(true_subdistrict_vals, pred_subdistrict_vals)\n",
    "p = pearsonr(true_subdistrict_vals, pred_subdistrict_vals)[0]\n",
    "plt.figtext(0.7, 0.2, \"r2 = %.3f\" % r2)\n",
    "plt.figtext(0.7, 0.15, \"Pearson = %.3f\" % p)\n",
    "plt.scatter(true_subdistrict_vals, pred_subdistrict_vals, alpha=0.5)\n",
    "print(r2, p)"
   ]
  },
  {
   "cell_type": "code",
   "execution_count": 20,
   "metadata": {
    "scrolled": true
   },
   "outputs": [
    {
     "data": {
      "text/plain": [
       "<matplotlib.collections.PathCollection at 0x7f7e97523be0>"
      ]
     },
     "execution_count": 20,
     "metadata": {},
     "output_type": "execute_result"
    },
    {
     "data": {
      "image/png": "[encoded data removed]",
      "text/plain": [
       "<matplotlib.figure.Figure at 0x7f7e9904feb8>"
      ]
     },
     "metadata": {},
     "output_type": "display_data"
    }
   ],
   "source": [
    "true_subdistrict_vals = df_weighted_sum.secc_pop_density_log2.values\n",
    "pred_subdistrict_vals = df_weighted_sum.pred_pop_density_log2.values\n",
    "\n",
    "plt.title(\"comparison of weighted log2 population density on subdistrict level\")\n",
    "plt.ylabel(\"Weighted Predicted subdistrict densities - log2\")\n",
    "plt.xlabel(\"Weighted True subdistrict densities - log2\")\n",
    "r2 = r2_score(true_subdistrict_vals, pred_subdistrict_vals)\n",
    "p = pearsonr(true_subdistrict_vals, pred_subdistrict_vals)[0]\n",
    "plt.figtext(0.7, 0.2, \"r2 = %.3f\" % r2)\n",
    "plt.figtext(0.7, 0.15, \"Pearson = %.3f\" % p)\n",
    "plt.scatter(true_subdistrict_vals, pred_subdistrict_vals, alpha=0.5)"
   ]
  },
  {
   "cell_type": "code",
   "execution_count": null,
   "metadata": {},
   "outputs": [],
   "source": []
  }
 ],
 "metadata": {
  "kernelspec": {
   "display_name": "Python 3",
   "language": "python",
   "name": "python3"
  },
  "language_info": {
   "codemirror_mode": {
    "name": "ipython",
    "version": 3
   },
   "file_extension": ".py",
   "mimetype": "text/x-python",
   "name": "python",
   "nbconvert_exporter": "python",
   "pygments_lexer": "ipython3",
   "version": "3.5.2"
  }
 },
 "nbformat": 4,
 "nbformat_minor": 2
}
