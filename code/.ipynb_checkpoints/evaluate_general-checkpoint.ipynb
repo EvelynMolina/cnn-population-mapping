{
 "cells": [
  {
   "cell_type": "code",
   "execution_count": 20,
   "metadata": {},
   "outputs": [],
   "source": [
    "%matplotlib inline\n",
    "from __future__ import absolute_import\n",
    "from __future__ import division\n",
    "from __future__ import print_function\n",
    "\n",
    "import math\n",
    "import argparse\n",
    "import pandas as pd\n",
    "import numpy as np\n",
    "\n",
    "import tensorflow as tf\n",
    "import tensorflow.contrib.slim as slim\n",
    "\n",
    "import matplotlib.pyplot as plt\n",
    "from sklearn.metrics import mean_squared_error, r2_score, accuracy_score\n",
    "from scipy.stats import pearsonr\n",
    "\n",
    "import data_input_jpg as dataset"
   ]
  },
  {
   "cell_type": "markdown",
   "metadata": {},
   "source": [
    "## Evaluation Configurations"
   ]
  },
  {
   "cell_type": "code",
   "execution_count": 38,
   "metadata": {},
   "outputs": [],
   "source": [
    "# import vgg_deep_combo as vgg\n",
    "# import vgg_shallow_combo as vgg\n",
    "from tensorflow.contrib.slim.python.slim.nets import vgg\n",
    "ISCOMBO = False\n",
    "# ANNOS_CSV = '/home/timhu/data/state24_jpgpaths_clean_17k_May17.csv'\n",
    "ANNOS_CSV = '/home/timhu/data/all_jpgpaths_clean_538k_May17.csv'\n",
    "DATA = 's1' #l8s1, l8, s1\n",
    "JPG_DIR = '/home/timhu/data/all_jpg/'\n",
    "LOG_DIR = '/home/timhu/logs/regression_s1_allstate_lr-5_decay-1_wd5e-3_drop08_vgg_Jul28'\n",
    "IMAGE_HEIGHT = 224 \n",
    "IMAGE_WIDTH = 224\n",
    "IMAGE_CHANNEL = 3\n",
    "FLAGS = argparse.Namespace(dropout_keep= 0.8,\n",
    "                           batch_size= 1, # for eval, go through one by one\n",
    "                           output_size = 1) # embedding size or class number "
   ]
  },
  {
   "cell_type": "code",
   "execution_count": 39,
   "metadata": {},
   "outputs": [
    {
     "name": "stdout",
     "output_type": "stream",
     "text": [
      "Lastest checkpoint: /home/timhu/logs/regression_l8_allstate_lr-5_decay-1_wd5e-3_drop08_vgg_Jul28/model.ckpt-45600\n"
     ]
    }
   ],
   "source": [
    "# find model checkpoint\n",
    "ckpt_state = tf.train.get_checkpoint_state(LOG_DIR)\n",
    "if ckpt_state and ckpt_state.model_checkpoint_path:\n",
    "    CKPT = ckpt_state.model_checkpoint_path\n",
    "    print('Lastest checkpoint:', CKPT)\n",
    "else:\n",
    "    print(\"ckpt doesn't exists at:\", LOG_DIR)"
   ]
  },
  {
   "cell_type": "markdown",
   "metadata": {},
   "source": [
    "## Data/Model Loading"
   ]
  },
  {
   "cell_type": "code",
   "execution_count": 40,
   "metadata": {},
   "outputs": [
    {
     "data": {
      "text/html": [
       "<div>\n",
       "<style>\n",
       "    .dataframe thead tr:only-child th {\n",
       "        text-align: right;\n",
       "    }\n",
       "\n",
       "    .dataframe thead th {\n",
       "        text-align: left;\n",
       "    }\n",
       "\n",
       "    .dataframe tbody tr th {\n",
       "        vertical-align: top;\n",
       "    }\n",
       "</style>\n",
       "<table border=\"1\" class=\"dataframe\">\n",
       "  <thead>\n",
       "    <tr style=\"text-align: right;\">\n",
       "      <th></th>\n",
       "      <th>village_id</th>\n",
       "      <th>state_id</th>\n",
       "      <th>district_id</th>\n",
       "      <th>subdistrict_id</th>\n",
       "      <th>secc_pop</th>\n",
       "      <th>secc_pop_scaled</th>\n",
       "      <th>area</th>\n",
       "      <th>longitude</th>\n",
       "      <th>latitude</th>\n",
       "      <th>pop_density</th>\n",
       "      <th>pop_density_log2</th>\n",
       "      <th>partition</th>\n",
       "      <th>l8_vis_path</th>\n",
       "      <th>s1_vis_path</th>\n",
       "      <th>l8_vis_jpg</th>\n",
       "      <th>s1_vis_jpg</th>\n",
       "    </tr>\n",
       "  </thead>\n",
       "  <tbody>\n",
       "    <tr>\n",
       "      <th>535128</th>\n",
       "      <td>567631</td>\n",
       "      <td>34</td>\n",
       "      <td>637</td>\n",
       "      <td>5915</td>\n",
       "      <td>6737</td>\n",
       "      <td>6049.450048</td>\n",
       "      <td>4.667680e+06</td>\n",
       "      <td>79.792090</td>\n",
       "      <td>10.923974</td>\n",
       "      <td>1443.329506</td>\n",
       "      <td>10.495185</td>\n",
       "      <td>train</td>\n",
       "      <td>l8_median_india_vis/l8_median_india_vis_500x50...</td>\n",
       "      <td>s1_median_india_vis/s1_median_india_vis_500x50...</td>\n",
       "      <td>l8_median_india_vis/l8_median_india_vis_150x15...</td>\n",
       "      <td>s1_median_india_vis/s1_median_india_vis_450x45...</td>\n",
       "    </tr>\n",
       "    <tr>\n",
       "      <th>535129</th>\n",
       "      <td>567632</td>\n",
       "      <td>34</td>\n",
       "      <td>637</td>\n",
       "      <td>5915</td>\n",
       "      <td>2260</td>\n",
       "      <td>2035.500015</td>\n",
       "      <td>4.514581e+06</td>\n",
       "      <td>79.757279</td>\n",
       "      <td>10.921364</td>\n",
       "      <td>500.600113</td>\n",
       "      <td>8.967515</td>\n",
       "      <td>train</td>\n",
       "      <td>l8_median_india_vis/l8_median_india_vis_500x50...</td>\n",
       "      <td>s1_median_india_vis/s1_median_india_vis_500x50...</td>\n",
       "      <td>l8_median_india_vis/l8_median_india_vis_150x15...</td>\n",
       "      <td>s1_median_india_vis/s1_median_india_vis_450x45...</td>\n",
       "    </tr>\n",
       "    <tr>\n",
       "      <th>535130</th>\n",
       "      <td>567633</td>\n",
       "      <td>34</td>\n",
       "      <td>637</td>\n",
       "      <td>5915</td>\n",
       "      <td>3942</td>\n",
       "      <td>3527.600028</td>\n",
       "      <td>5.891136e+06</td>\n",
       "      <td>79.742833</td>\n",
       "      <td>10.931922</td>\n",
       "      <td>669.140890</td>\n",
       "      <td>9.386166</td>\n",
       "      <td>train</td>\n",
       "      <td>l8_median_india_vis/l8_median_india_vis_500x50...</td>\n",
       "      <td>s1_median_india_vis/s1_median_india_vis_500x50...</td>\n",
       "      <td>l8_median_india_vis/l8_median_india_vis_150x15...</td>\n",
       "      <td>s1_median_india_vis/s1_median_india_vis_450x45...</td>\n",
       "    </tr>\n",
       "    <tr>\n",
       "      <th>535131</th>\n",
       "      <td>567634</td>\n",
       "      <td>34</td>\n",
       "      <td>637</td>\n",
       "      <td>5915</td>\n",
       "      <td>2521</td>\n",
       "      <td>2269.200016</td>\n",
       "      <td>3.121377e+06</td>\n",
       "      <td>79.771553</td>\n",
       "      <td>10.917816</td>\n",
       "      <td>807.656442</td>\n",
       "      <td>9.657598</td>\n",
       "      <td>train</td>\n",
       "      <td>l8_median_india_vis/l8_median_india_vis_500x50...</td>\n",
       "      <td>s1_median_india_vis/s1_median_india_vis_500x50...</td>\n",
       "      <td>l8_median_india_vis/l8_median_india_vis_150x15...</td>\n",
       "      <td>s1_median_india_vis/s1_median_india_vis_450x45...</td>\n",
       "    </tr>\n",
       "    <tr>\n",
       "      <th>535132</th>\n",
       "      <td>567635</td>\n",
       "      <td>34</td>\n",
       "      <td>637</td>\n",
       "      <td>5915</td>\n",
       "      <td>3197</td>\n",
       "      <td>2873.100021</td>\n",
       "      <td>4.717539e+06</td>\n",
       "      <td>79.793871</td>\n",
       "      <td>10.908532</td>\n",
       "      <td>677.683821</td>\n",
       "      <td>9.404469</td>\n",
       "      <td>train</td>\n",
       "      <td>l8_median_india_vis/l8_median_india_vis_500x50...</td>\n",
       "      <td>s1_median_india_vis/s1_median_india_vis_500x50...</td>\n",
       "      <td>l8_median_india_vis/l8_median_india_vis_150x15...</td>\n",
       "      <td>s1_median_india_vis/s1_median_india_vis_450x45...</td>\n",
       "    </tr>\n",
       "  </tbody>\n",
       "</table>\n",
       "</div>"
      ],
      "text/plain": [
       "        village_id  state_id  district_id  subdistrict_id  secc_pop  \\\n",
       "535128      567631        34          637            5915      6737   \n",
       "535129      567632        34          637            5915      2260   \n",
       "535130      567633        34          637            5915      3942   \n",
       "535131      567634        34          637            5915      2521   \n",
       "535132      567635        34          637            5915      3197   \n",
       "\n",
       "        secc_pop_scaled          area  longitude   latitude  pop_density  \\\n",
       "535128      6049.450048  4.667680e+06  79.792090  10.923974  1443.329506   \n",
       "535129      2035.500015  4.514581e+06  79.757279  10.921364   500.600113   \n",
       "535130      3527.600028  5.891136e+06  79.742833  10.931922   669.140890   \n",
       "535131      2269.200016  3.121377e+06  79.771553  10.917816   807.656442   \n",
       "535132      2873.100021  4.717539e+06  79.793871  10.908532   677.683821   \n",
       "\n",
       "        pop_density_log2 partition  \\\n",
       "535128         10.495185     train   \n",
       "535129          8.967515     train   \n",
       "535130          9.386166     train   \n",
       "535131          9.657598     train   \n",
       "535132          9.404469     train   \n",
       "\n",
       "                                              l8_vis_path  \\\n",
       "535128  l8_median_india_vis/l8_median_india_vis_500x50...   \n",
       "535129  l8_median_india_vis/l8_median_india_vis_500x50...   \n",
       "535130  l8_median_india_vis/l8_median_india_vis_500x50...   \n",
       "535131  l8_median_india_vis/l8_median_india_vis_500x50...   \n",
       "535132  l8_median_india_vis/l8_median_india_vis_500x50...   \n",
       "\n",
       "                                              s1_vis_path  \\\n",
       "535128  s1_median_india_vis/s1_median_india_vis_500x50...   \n",
       "535129  s1_median_india_vis/s1_median_india_vis_500x50...   \n",
       "535130  s1_median_india_vis/s1_median_india_vis_500x50...   \n",
       "535131  s1_median_india_vis/s1_median_india_vis_500x50...   \n",
       "535132  s1_median_india_vis/s1_median_india_vis_500x50...   \n",
       "\n",
       "                                               l8_vis_jpg  \\\n",
       "535128  l8_median_india_vis/l8_median_india_vis_150x15...   \n",
       "535129  l8_median_india_vis/l8_median_india_vis_150x15...   \n",
       "535130  l8_median_india_vis/l8_median_india_vis_150x15...   \n",
       "535131  l8_median_india_vis/l8_median_india_vis_150x15...   \n",
       "535132  l8_median_india_vis/l8_median_india_vis_150x15...   \n",
       "\n",
       "                                               s1_vis_jpg  \n",
       "535128  s1_median_india_vis/s1_median_india_vis_450x45...  \n",
       "535129  s1_median_india_vis/s1_median_india_vis_450x45...  \n",
       "535130  s1_median_india_vis/s1_median_india_vis_450x45...  \n",
       "535131  s1_median_india_vis/s1_median_india_vis_450x45...  \n",
       "535132  s1_median_india_vis/s1_median_india_vis_450x45...  "
      ]
     },
     "execution_count": 40,
     "metadata": {},
     "output_type": "execute_result"
    }
   ],
   "source": [
    "# load annotation CSV\n",
    "df_annos = pd.read_csv(ANNOS_CSV, index_col=0)\n",
    "df_annos.tail()"
   ]
  },
  {
   "cell_type": "code",
   "execution_count": 41,
   "metadata": {},
   "outputs": [
    {
     "name": "stdout",
     "output_type": "stream",
     "text": [
      "total number of test images: 57567\n"
     ]
    }
   ],
   "source": [
    "# load input image file, labels, village_ids, for model inference\n",
    "if DATA == 'l8':\n",
    "    path_col = ['l8_vis_jpg']\n",
    "elif DATA == 's1':\n",
    "    path_col = ['s1_vis_jpg']\n",
    "elif DATA == 'l8s1':\n",
    "    path_col = ['l8_vis_jpg', 's1_vis_jpg']\n",
    "input_files_test = JPG_DIR + df_annos.loc[df_annos.partition == 'test', path_col].values\n",
    "input_labels_test = df_annos.loc[df_annos.partition == 'test', 'pop_density_log2'].values\n",
    "input_id_test = df_annos.loc[df_annos.partition == 'test', 'village_id'].values\n",
    "test_size = len(input_id_test)\n",
    "print('total number of test images:', test_size)"
   ]
  },
  {
   "cell_type": "code",
   "execution_count": 42,
   "metadata": {},
   "outputs": [
    {
     "data": {
      "text/html": [
       "<div>\n",
       "<style>\n",
       "    .dataframe thead tr:only-child th {\n",
       "        text-align: right;\n",
       "    }\n",
       "\n",
       "    .dataframe thead th {\n",
       "        text-align: left;\n",
       "    }\n",
       "\n",
       "    .dataframe tbody tr th {\n",
       "        vertical-align: top;\n",
       "    }\n",
       "</style>\n",
       "<table border=\"1\" class=\"dataframe\">\n",
       "  <thead>\n",
       "    <tr style=\"text-align: right;\">\n",
       "      <th></th>\n",
       "      <th>village_id</th>\n",
       "      <th>state_id</th>\n",
       "      <th>district_id</th>\n",
       "      <th>subdistrict_id</th>\n",
       "      <th>area</th>\n",
       "      <th>secc_pop</th>\n",
       "      <th>pop_density</th>\n",
       "      <th>pop_density_log2</th>\n",
       "    </tr>\n",
       "  </thead>\n",
       "  <tbody>\n",
       "    <tr>\n",
       "      <th>534250</th>\n",
       "      <td>566741</td>\n",
       "      <td>33</td>\n",
       "      <td>631</td>\n",
       "      <td>5891</td>\n",
       "      <td>9.387259</td>\n",
       "      <td>2774</td>\n",
       "      <td>295.506926</td>\n",
       "      <td>8.207048</td>\n",
       "    </tr>\n",
       "    <tr>\n",
       "      <th>534251</th>\n",
       "      <td>566742</td>\n",
       "      <td>33</td>\n",
       "      <td>631</td>\n",
       "      <td>5891</td>\n",
       "      <td>14.659993</td>\n",
       "      <td>6138</td>\n",
       "      <td>418.690507</td>\n",
       "      <td>8.709740</td>\n",
       "    </tr>\n",
       "    <tr>\n",
       "      <th>534252</th>\n",
       "      <td>566743</td>\n",
       "      <td>33</td>\n",
       "      <td>631</td>\n",
       "      <td>5891</td>\n",
       "      <td>12.207912</td>\n",
       "      <td>5827</td>\n",
       "      <td>477.313385</td>\n",
       "      <td>8.898793</td>\n",
       "    </tr>\n",
       "    <tr>\n",
       "      <th>534253</th>\n",
       "      <td>566744</td>\n",
       "      <td>33</td>\n",
       "      <td>631</td>\n",
       "      <td>5891</td>\n",
       "      <td>14.200096</td>\n",
       "      <td>4543</td>\n",
       "      <td>319.927418</td>\n",
       "      <td>8.321601</td>\n",
       "    </tr>\n",
       "    <tr>\n",
       "      <th>534254</th>\n",
       "      <td>566745</td>\n",
       "      <td>33</td>\n",
       "      <td>631</td>\n",
       "      <td>5891</td>\n",
       "      <td>13.059874</td>\n",
       "      <td>3564</td>\n",
       "      <td>272.896967</td>\n",
       "      <td>8.092213</td>\n",
       "    </tr>\n",
       "  </tbody>\n",
       "</table>\n",
       "</div>"
      ],
      "text/plain": [
       "        village_id  state_id  district_id  subdistrict_id       area  \\\n",
       "534250      566741        33          631            5891   9.387259   \n",
       "534251      566742        33          631            5891  14.659993   \n",
       "534252      566743        33          631            5891  12.207912   \n",
       "534253      566744        33          631            5891  14.200096   \n",
       "534254      566745        33          631            5891  13.059874   \n",
       "\n",
       "        secc_pop  pop_density  pop_density_log2  \n",
       "534250      2774   295.506926          8.207048  \n",
       "534251      6138   418.690507          8.709740  \n",
       "534252      5827   477.313385          8.898793  \n",
       "534253      4543   319.927418          8.321601  \n",
       "534254      3564   272.896967          8.092213  "
      ]
     },
     "execution_count": 42,
     "metadata": {},
     "output_type": "execute_result"
    }
   ],
   "source": [
    "#setup predition results table: \n",
    "# village_id, state_id, district_id, subdistrict_id, pop, log_pop, predict_pop, predict_log2_pop\n",
    "df_test = df_annos[df_annos.partition == 'test']\n",
    "df_test = df_test[['village_id','state_id','district_id','subdistrict_id','area', 'secc_pop', 'pop_density','pop_density_log2']]\n",
    "df_test.area = df_test.area / 1e6 # convert area from m2 to km2\n",
    "df_test.tail()"
   ]
  },
  {
   "cell_type": "code",
   "execution_count": 43,
   "metadata": {},
   "outputs": [
    {
     "name": "stdout",
     "output_type": "stream",
     "text": [
      "INFO:tensorflow:Restoring parameters from /home/timhu/logs/regression_l8_allstate_lr-5_decay-1_wd5e-3_drop08_vgg_Jul28/model.ckpt-45600\n"
     ]
    }
   ],
   "source": [
    "tf.reset_default_graph()\n",
    "sess = tf.Session()\n",
    "with tf.device('/cpu:0'):\n",
    "    test_images_batch, test_labels_batch, test_ids_batch = dataset.input_batches(\n",
    "        FLAGS.batch_size, FLAGS.output_size, input_files_test, input_labels_test, input_id_test,\n",
    "        IMAGE_HEIGHT, IMAGE_WIDTH, IMAGE_CHANNEL, regression=True, augmentation=False, normalization=True)\n",
    "\n",
    "if ISCOMBO:\n",
    "    images_l8_placeholder = tf.placeholder(tf.float32, shape=[None, IMAGE_HEIGHT, IMAGE_WIDTH, 3]) \n",
    "    images_s1_placeholder = tf.placeholder(tf.float32, shape=[None, IMAGE_HEIGHT, IMAGE_WIDTH, 3])\n",
    "else:\n",
    "    images_placeholder = tf.placeholder(tf.float32, shape=[None, IMAGE_HEIGHT, IMAGE_WIDTH, IMAGE_CHANNEL])\n",
    "    \n",
    "labels_placeholder = tf.placeholder(tf.float32, shape=[None,])\n",
    "\n",
    "test_batches = int(test_size / FLAGS.batch_size) # number of training batches/steps in each epoch\n",
    "\n",
    "with slim.arg_scope(vgg.vgg_arg_scope()):\n",
    "    if ISCOMBO:\n",
    "        outputs, _ = vgg.vgg_16(images_l8_placeholder, images_s1_placeholder, num_classes=FLAGS.output_size, \n",
    "                               dropout_keep_prob=FLAGS.dropout_keep, is_training=False)\n",
    "    else:\n",
    "        outputs, _ = vgg.vgg_16(images_placeholder, num_classes=FLAGS.output_size, \n",
    "                                   dropout_keep_prob=FLAGS.dropout_keep, is_training=False)\n",
    "    outputs = tf.squeeze(outputs)\n",
    "\n",
    "init = tf.global_variables_initializer()\n",
    "sess.run(init)\n",
    "restorer = tf.train.Saver()\n",
    "restorer.restore(sess, CKPT)"
   ]
  },
  {
   "cell_type": "markdown",
   "metadata": {},
   "source": [
    "## Model Inference (by default batch_size = 1)"
   ]
  },
  {
   "cell_type": "code",
   "execution_count": 44,
   "metadata": {},
   "outputs": [
    {
     "name": "stdout",
     "output_type": "stream",
     "text": [
      "finish batches: 0\n",
      "finish batches: 1000\n",
      "finish batches: 2000\n",
      "finish batches: 3000\n",
      "finish batches: 4000\n",
      "finish batches: 5000\n",
      "finish batches: 6000\n",
      "finish batches: 7000\n",
      "finish batches: 8000\n",
      "finish batches: 9000\n",
      "finish batches: 10000\n",
      "finish batches: 11000\n",
      "finish batches: 12000\n",
      "finish batches: 13000\n",
      "finish batches: 14000\n",
      "finish batches: 15000\n",
      "finish batches: 16000\n",
      "finish batches: 17000\n",
      "finish batches: 18000\n",
      "finish batches: 19000\n",
      "finish batches: 20000\n",
      "finish batches: 21000\n",
      "finish batches: 22000\n",
      "finish batches: 23000\n",
      "finish batches: 24000\n",
      "finish batches: 25000\n",
      "finish batches: 26000\n",
      "finish batches: 27000\n",
      "finish batches: 28000\n",
      "finish batches: 29000\n",
      "finish batches: 30000\n",
      "finish batches: 31000\n",
      "finish batches: 32000\n",
      "finish batches: 33000\n",
      "finish batches: 34000\n",
      "finish batches: 35000\n",
      "finish batches: 36000\n",
      "finish batches: 37000\n",
      "finish batches: 38000\n",
      "finish batches: 39000\n",
      "finish batches: 40000\n",
      "finish batches: 41000\n",
      "finish batches: 42000\n",
      "finish batches: 43000\n",
      "finish batches: 44000\n",
      "finish batches: 45000\n",
      "finish batches: 46000\n",
      "finish batches: 47000\n",
      "finish batches: 48000\n",
      "finish batches: 49000\n",
      "finish batches: 50000\n",
      "finish batches: 51000\n",
      "finish batches: 52000\n",
      "finish batches: 53000\n",
      "finish batches: 54000\n",
      "finish batches: 55000\n",
      "finish batches: 56000\n",
      "finish batches: 57000\n"
     ]
    }
   ],
   "source": [
    "infe_log2_out = []\n",
    "infe_ids = []\n",
    "\n",
    "for step in range(test_batches):\n",
    "    if  step % 1000 == 0:\n",
    "        print('finish batches:', step)\n",
    "    images_out, labels_out, ids_out = sess.run([test_images_batch, test_labels_batch, test_ids_batch])\n",
    "    if ISCOMBO:\n",
    "        feed_dict = {images_l8_placeholder: images_out[:,:,:,:3],images_s1_placeholder: images_out[:,:,:,3:],\n",
    "                     labels_placeholder: labels_out}\n",
    "    else:\n",
    "        feed_dict = {images_placeholder: images_out, labels_placeholder: labels_out}\n",
    "    \n",
    "    log2_out = sess.run(outputs, feed_dict = feed_dict)\n",
    "    infe_log2_out.append(log2_out)\n",
    "    infe_ids.append(ids_out[0])"
   ]
  },
  {
   "cell_type": "code",
   "execution_count": 45,
   "metadata": {},
   "outputs": [
    {
     "data": {
      "text/html": [
       "<div>\n",
       "<style>\n",
       "    .dataframe thead tr:only-child th {\n",
       "        text-align: right;\n",
       "    }\n",
       "\n",
       "    .dataframe thead th {\n",
       "        text-align: left;\n",
       "    }\n",
       "\n",
       "    .dataframe tbody tr th {\n",
       "        vertical-align: top;\n",
       "    }\n",
       "</style>\n",
       "<table border=\"1\" class=\"dataframe\">\n",
       "  <thead>\n",
       "    <tr style=\"text-align: right;\">\n",
       "      <th></th>\n",
       "      <th>village_id</th>\n",
       "      <th>state_id</th>\n",
       "      <th>district_id</th>\n",
       "      <th>subdistrict_id</th>\n",
       "      <th>area</th>\n",
       "      <th>secc_pop</th>\n",
       "      <th>pop_density</th>\n",
       "      <th>pop_density_log2</th>\n",
       "      <th>pred_log2_density</th>\n",
       "      <th>pre_density</th>\n",
       "    </tr>\n",
       "  </thead>\n",
       "  <tbody>\n",
       "    <tr>\n",
       "      <th>0</th>\n",
       "      <td>1247</td>\n",
       "      <td>1</td>\n",
       "      <td>6</td>\n",
       "      <td>22</td>\n",
       "      <td>5.935085</td>\n",
       "      <td>1110</td>\n",
       "      <td>187.023443</td>\n",
       "      <td>7.547075</td>\n",
       "      <td>7.978303</td>\n",
       "      <td>252.178760</td>\n",
       "    </tr>\n",
       "    <tr>\n",
       "      <th>1</th>\n",
       "      <td>1248</td>\n",
       "      <td>1</td>\n",
       "      <td>6</td>\n",
       "      <td>22</td>\n",
       "      <td>3.630205</td>\n",
       "      <td>865</td>\n",
       "      <td>238.278585</td>\n",
       "      <td>7.896505</td>\n",
       "      <td>8.148487</td>\n",
       "      <td>283.752067</td>\n",
       "    </tr>\n",
       "    <tr>\n",
       "      <th>2</th>\n",
       "      <td>1249</td>\n",
       "      <td>1</td>\n",
       "      <td>6</td>\n",
       "      <td>22</td>\n",
       "      <td>13.779807</td>\n",
       "      <td>2715</td>\n",
       "      <td>197.027428</td>\n",
       "      <td>7.622253</td>\n",
       "      <td>7.789729</td>\n",
       "      <td>221.279980</td>\n",
       "    </tr>\n",
       "    <tr>\n",
       "      <th>3</th>\n",
       "      <td>1250</td>\n",
       "      <td>1</td>\n",
       "      <td>6</td>\n",
       "      <td>22</td>\n",
       "      <td>11.077119</td>\n",
       "      <td>2142</td>\n",
       "      <td>193.371573</td>\n",
       "      <td>7.595232</td>\n",
       "      <td>7.852068</td>\n",
       "      <td>231.051144</td>\n",
       "    </tr>\n",
       "    <tr>\n",
       "      <th>4</th>\n",
       "      <td>1251</td>\n",
       "      <td>1</td>\n",
       "      <td>6</td>\n",
       "      <td>22</td>\n",
       "      <td>15.071663</td>\n",
       "      <td>5688</td>\n",
       "      <td>377.396982</td>\n",
       "      <td>8.559939</td>\n",
       "      <td>7.892301</td>\n",
       "      <td>237.585109</td>\n",
       "    </tr>\n",
       "  </tbody>\n",
       "</table>\n",
       "</div>"
      ],
      "text/plain": [
       "   village_id  state_id  district_id  subdistrict_id       area  secc_pop  \\\n",
       "0        1247         1            6              22   5.935085      1110   \n",
       "1        1248         1            6              22   3.630205       865   \n",
       "2        1249         1            6              22  13.779807      2715   \n",
       "3        1250         1            6              22  11.077119      2142   \n",
       "4        1251         1            6              22  15.071663      5688   \n",
       "\n",
       "   pop_density  pop_density_log2  pred_log2_density  pre_density  \n",
       "0   187.023443          7.547075           7.978303   252.178760  \n",
       "1   238.278585          7.896505           8.148487   283.752067  \n",
       "2   197.027428          7.622253           7.789729   221.279980  \n",
       "3   193.371573          7.595232           7.852068   231.051144  \n",
       "4   377.396982          8.559939           7.892301   237.585109  "
      ]
     },
     "execution_count": 45,
     "metadata": {},
     "output_type": "execute_result"
    }
   ],
   "source": [
    "# merge inference results with prediction table \n",
    "df_pred = pd.DataFrame({'village_id': infe_ids, 'pred_log2_density': infe_log2_out})\n",
    "df_res = pd.merge(df_test, df_pred, on='village_id', how = 'left')\n",
    "df_res['pre_density'] = 2 ** df_res.pred_log2_density\n",
    "df_res.head()"
   ]
  },
  {
   "cell_type": "code",
   "execution_count": 46,
   "metadata": {},
   "outputs": [],
   "source": [
    "df_res.to_csv(LOG_DIR + '.csv')"
   ]
  },
  {
   "cell_type": "markdown",
   "metadata": {},
   "source": [
    "## Evaluation Plots/Stats"
   ]
  },
  {
   "cell_type": "markdown",
   "metadata": {},
   "source": [
    "### 1. Direct Sum Aggregation comparison"
   ]
  },
  {
   "cell_type": "code",
   "execution_count": 47,
   "metadata": {},
   "outputs": [],
   "source": [
    "df_direct_log2_sum = df_res.groupby('subdistrict_id')['pop_density_log2', 'pred_log2_density'].agg(np.sum)\n",
    "true_subdistrict_vals = df_direct_log2_sum.pop_density_log2.values\n",
    "pred_subdistrict_vals = df_direct_log2_sum.pred_log2_density.values"
   ]
  },
  {
   "cell_type": "code",
   "execution_count": 48,
   "metadata": {},
   "outputs": [
    {
     "data": {
      "image/png": "[encoded data removed]",
      "text/plain": [
       "<matplotlib.figure.Figure at 0x7f7d3fa6c4e0>"
      ]
     },
     "metadata": {},
     "output_type": "display_data"
    }
   ],
   "source": [
    "plt.title(\"Direct Sum Aggregation comparison of log2 population density on subdistrict level\")\n",
    "plt.ylabel(\"Sum of Predicted subdistrict densities (log 2)\")\n",
    "plt.xlabel(\"Sum of True subdistrict densities (log 2)\")\n",
    "r2 = r2_score(true_subdistrict_vals, pred_subdistrict_vals)\n",
    "p = pearsonr(true_subdistrict_vals, pred_subdistrict_vals)[0]\n",
    "plt.figtext(0.7, 0.2, \"r2 = %.3f\" % r2)\n",
    "plt.figtext(0.7, 0.15, \"Pearson = %.3f\" % p)\n",
    "plt.scatter(true_subdistrict_vals, pred_subdistrict_vals, alpha=0.5)\n",
    "plt.show()"
   ]
  },
  {
   "cell_type": "markdown",
   "metadata": {},
   "source": [
    "This uses the same methods as the plot shown in the presentation at the end of quarter. The comparison of population density between predition and ground-truth is on subdistrict level, and taking the direct sum of each log2 density value from each subdistrict. It might not be a valid comparison, because each village has log2 density in a very small range (6-9), the values on subdistricts level are quite depend on the number of villages within it. With more villages in one subdistrict, the aggregated log2 value would increase proportionaly. \n",
    "\n",
    "It would be better to compare the average population density on subdistricts."
   ]
  },
  {
   "cell_type": "markdown",
   "metadata": {},
   "source": [
    "### 2. Direct Average Aggregation comparison"
   ]
  },
  {
   "cell_type": "code",
   "execution_count": 49,
   "metadata": {},
   "outputs": [],
   "source": [
    "df_direct_log2_ave = df_res.groupby('subdistrict_id')['pop_density_log2', 'pred_log2_density'].agg(np.mean)\n",
    "true_subdistrict_vals = df_direct_log2_ave.pop_density_log2.values\n",
    "pred_subdistrict_vals = df_direct_log2_ave.pred_log2_density.values"
   ]
  },
  {
   "cell_type": "code",
   "execution_count": 50,
   "metadata": {
    "scrolled": true
   },
   "outputs": [
    {
     "data": {
      "image/png": "[encoded data removed]",
      "text/plain": [
       "<matplotlib.figure.Figure at 0x7f7d3fa70208>"
      ]
     },
     "metadata": {},
     "output_type": "display_data"
    }
   ],
   "source": [
    "plt.title(\"Direct Average Aggregation comparison of log2 population density on subdistrict level\")\n",
    "plt.ylabel(\"Average Predicted subdistrict densities (log 2)\")\n",
    "plt.xlabel(\"Average True subdistrict densities (log 2)\")\n",
    "r2 = r2_score(true_subdistrict_vals, pred_subdistrict_vals)\n",
    "p = pearsonr(true_subdistrict_vals, pred_subdistrict_vals)[0]\n",
    "plt.figtext(0.7, 0.2, \"r2 = %.3f\" % r2)\n",
    "plt.figtext(0.7, 0.15, \"Pearson = %.3f\" % p)\n",
    "plt.scatter(true_subdistrict_vals, pred_subdistrict_vals, alpha=0.5)\n",
    "plt.show()"
   ]
  },
  {
   "cell_type": "markdown",
   "metadata": {},
   "source": [
    "### 3. Weighted Average Aggregation comparison"
   ]
  },
  {
   "cell_type": "code",
   "execution_count": 51,
   "metadata": {},
   "outputs": [
    {
     "data": {
      "text/html": [
       "<div>\n",
       "<style>\n",
       "    .dataframe thead tr:only-child th {\n",
       "        text-align: right;\n",
       "    }\n",
       "\n",
       "    .dataframe thead th {\n",
       "        text-align: left;\n",
       "    }\n",
       "\n",
       "    .dataframe tbody tr th {\n",
       "        vertical-align: top;\n",
       "    }\n",
       "</style>\n",
       "<table border=\"1\" class=\"dataframe\">\n",
       "  <thead>\n",
       "    <tr style=\"text-align: right;\">\n",
       "      <th></th>\n",
       "      <th>secc_pop</th>\n",
       "      <th>pred_pop</th>\n",
       "      <th>area</th>\n",
       "      <th>secc_pop_density</th>\n",
       "      <th>pred_pop_density</th>\n",
       "      <th>secc_pop_density_log2</th>\n",
       "      <th>pred_pop_density_log2</th>\n",
       "    </tr>\n",
       "    <tr>\n",
       "      <th>subdistrict_id</th>\n",
       "      <th></th>\n",
       "      <th></th>\n",
       "      <th></th>\n",
       "      <th></th>\n",
       "      <th></th>\n",
       "      <th></th>\n",
       "      <th></th>\n",
       "    </tr>\n",
       "  </thead>\n",
       "  <tbody>\n",
       "    <tr>\n",
       "      <th>22</th>\n",
       "      <td>161483</td>\n",
       "      <td>96488.248134</td>\n",
       "      <td>510.430255</td>\n",
       "      <td>316.366435</td>\n",
       "      <td>189.033168</td>\n",
       "      <td>8.305453</td>\n",
       "      <td>7.562496</td>\n",
       "    </tr>\n",
       "    <tr>\n",
       "      <th>26</th>\n",
       "      <td>60141</td>\n",
       "      <td>81039.145146</td>\n",
       "      <td>325.216946</td>\n",
       "      <td>184.925788</td>\n",
       "      <td>249.184879</td>\n",
       "      <td>7.530803</td>\n",
       "      <td>7.961073</td>\n",
       "    </tr>\n",
       "    <tr>\n",
       "      <th>34</th>\n",
       "      <td>148108</td>\n",
       "      <td>208856.613306</td>\n",
       "      <td>191.257845</td>\n",
       "      <td>774.389148</td>\n",
       "      <td>1092.015926</td>\n",
       "      <td>9.596915</td>\n",
       "      <td>10.092778</td>\n",
       "    </tr>\n",
       "    <tr>\n",
       "      <th>37</th>\n",
       "      <td>62879</td>\n",
       "      <td>47308.825681</td>\n",
       "      <td>181.121729</td>\n",
       "      <td>347.164309</td>\n",
       "      <td>261.199061</td>\n",
       "      <td>8.439475</td>\n",
       "      <td>8.029006</td>\n",
       "    </tr>\n",
       "    <tr>\n",
       "      <th>40</th>\n",
       "      <td>44164</td>\n",
       "      <td>7307.340125</td>\n",
       "      <td>60.718620</td>\n",
       "      <td>727.355140</td>\n",
       "      <td>120.347600</td>\n",
       "      <td>9.506516</td>\n",
       "      <td>6.911064</td>\n",
       "    </tr>\n",
       "  </tbody>\n",
       "</table>\n",
       "</div>"
      ],
      "text/plain": [
       "                secc_pop       pred_pop        area  secc_pop_density  \\\n",
       "subdistrict_id                                                          \n",
       "22                161483   96488.248134  510.430255        316.366435   \n",
       "26                 60141   81039.145146  325.216946        184.925788   \n",
       "34                148108  208856.613306  191.257845        774.389148   \n",
       "37                 62879   47308.825681  181.121729        347.164309   \n",
       "40                 44164    7307.340125   60.718620        727.355140   \n",
       "\n",
       "                pred_pop_density  secc_pop_density_log2  pred_pop_density_log2  \n",
       "subdistrict_id                                                                  \n",
       "22                    189.033168               8.305453               7.562496  \n",
       "26                    249.184879               7.530803               7.961073  \n",
       "34                   1092.015926               9.596915              10.092778  \n",
       "37                    261.199061               8.439475               8.029006  \n",
       "40                    120.347600               9.506516               6.911064  "
      ]
     },
     "execution_count": 51,
     "metadata": {},
     "output_type": "execute_result"
    }
   ],
   "source": [
    "df_res['pred_pop'] = df_res.pre_density * df_res.area\n",
    "df_weighted_sum = df_res.groupby('subdistrict_id')['secc_pop', 'pred_pop','area'].agg(np.sum)\n",
    "df_weighted_sum['secc_pop_density'] = df_weighted_sum.secc_pop / df_weighted_sum.area\n",
    "df_weighted_sum['pred_pop_density'] = df_weighted_sum.pred_pop / df_weighted_sum.area\n",
    "df_weighted_sum['secc_pop_density_log2'] = np.log2(df_weighted_sum.secc_pop_density)\n",
    "df_weighted_sum['pred_pop_density_log2'] = np.log2(df_weighted_sum.pred_pop_density)\n",
    "df_weighted_sum.head()"
   ]
  },
  {
   "cell_type": "code",
   "execution_count": 52,
   "metadata": {},
   "outputs": [
    {
     "data": {
      "image/png": "[encoded data removed]",
      "text/plain": [
       "<matplotlib.figure.Figure at 0x7f7d409eeb70>"
      ]
     },
     "metadata": {},
     "output_type": "display_data"
    }
   ],
   "source": [
    "true_subdistrict_vals = df_weighted_sum.secc_pop_density.values\n",
    "pred_subdistrict_vals = df_weighted_sum.pred_pop_density.values\n",
    "\n",
    "plt.title(\"comparison of weighted real population density on subdistrict level\")\n",
    "plt.ylabel(\"Weighted Predicted subdistrict densities\")\n",
    "plt.xlabel(\"Weighted True subdistrict densities\")\n",
    "r2 = r2_score(true_subdistrict_vals, pred_subdistrict_vals)\n",
    "p = pearsonr(true_subdistrict_vals, pred_subdistrict_vals)[0]\n",
    "plt.figtext(0.7, 0.2, \"r2 = %.3f\" % r2)\n",
    "plt.figtext(0.7, 0.15, \"Pearson = %.3f\" % p)\n",
    "plt.scatter(true_subdistrict_vals, pred_subdistrict_vals, alpha=0.5)\n",
    "plt.show()"
   ]
  },
  {
   "cell_type": "code",
   "execution_count": 53,
   "metadata": {},
   "outputs": [
    {
     "data": {
      "text/plain": [
       "<matplotlib.collections.PathCollection at 0x7f7d4092b4a8>"
      ]
     },
     "execution_count": 53,
     "metadata": {},
     "output_type": "execute_result"
    },
    {
     "data": {
      "image/png": "[encoded data removed]",
      "text/plain": [
       "<matplotlib.figure.Figure at 0x7f7d409da240>"
      ]
     },
     "metadata": {},
     "output_type": "display_data"
    }
   ],
   "source": [
    "true_subdistrict_vals = df_weighted_sum.secc_pop.values\n",
    "pred_subdistrict_vals = df_weighted_sum.pred_pop.values\n",
    "\n",
    "plt.title(\"comparison of aggregated population on subdistrict level\")\n",
    "plt.ylabel(\"Aggregated Predicted population\")\n",
    "plt.xlabel(\"Aggregated True population\")\n",
    "r2 = r2_score(true_subdistrict_vals, pred_subdistrict_vals)\n",
    "p = pearsonr(true_subdistrict_vals, pred_subdistrict_vals)[0]\n",
    "plt.figtext(0.7, 0.2, \"r2 = %.3f\" % r2)\n",
    "plt.figtext(0.7, 0.15, \"Pearson = %.3f\" % p)\n",
    "plt.scatter(true_subdistrict_vals, pred_subdistrict_vals, alpha=0.5)"
   ]
  },
  {
   "cell_type": "code",
   "execution_count": 37,
   "metadata": {
    "scrolled": true
   },
   "outputs": [
    {
     "data": {
      "text/plain": [
       "<matplotlib.collections.PathCollection at 0x7f7d3fa20940>"
      ]
     },
     "execution_count": 37,
     "metadata": {},
     "output_type": "execute_result"
    },
    {
     "data": {
      "image/png": "[encoded data removed]",
      "text/plain": [
       "<matplotlib.figure.Figure at 0x7f7d3fa8d4a8>"
      ]
     },
     "metadata": {},
     "output_type": "display_data"
    }
   ],
   "source": [
    "true_subdistrict_vals = df_weighted_sum.secc_pop_density_log2.values\n",
    "pred_subdistrict_vals = df_weighted_sum.pred_pop_density_log2.values\n",
    "\n",
    "plt.title(\"comparison of weighted log2 population density on subdistrict level\")\n",
    "plt.ylabel(\"Weighted Predicted subdistrict densities - log2\")\n",
    "plt.xlabel(\"Weighted True subdistrict densities - log2\")\n",
    "r2 = r2_score(true_subdistrict_vals, pred_subdistrict_vals)\n",
    "p = pearsonr(true_subdistrict_vals, pred_subdistrict_vals)[0]\n",
    "plt.figtext(0.7, 0.2, \"r2 = %.3f\" % r2)\n",
    "plt.figtext(0.7, 0.15, \"Pearson = %.3f\" % p)\n",
    "plt.scatter(true_subdistrict_vals, pred_subdistrict_vals, alpha=0.5)"
   ]
  },
  {
   "cell_type": "code",
   "execution_count": null,
   "metadata": {},
   "outputs": [],
   "source": []
  }
 ],
 "metadata": {
  "kernelspec": {
   "display_name": "Python 3",
   "language": "python",
   "name": "python3"
  },
  "language_info": {
   "codemirror_mode": {
    "name": "ipython",
    "version": 3
   },
   "file_extension": ".py",
   "mimetype": "text/x-python",
   "name": "python",
   "nbconvert_exporter": "python",
   "pygments_lexer": "ipython3",
   "version": "3.5.2"
  }
 },
 "nbformat": 4,
 "nbformat_minor": 2
}
