{
 "cells": [
  {
   "cell_type": "code",
   "execution_count": 1,
   "metadata": {},
   "outputs": [],
   "source": [
    "# This Notebook removes all overlapping villages from the state CSV file \n",
    "# Specifically, we delete a village if it overlaps with any other village in train/test/val \n",
    "# To run on a new state CSV just update the paths below\n",
    "\n",
    "input_file = \"../data/annos_csv/state24_paths_density_labels_13k_Feb22-Overlap.csv\"\n",
    "output_file = \"../data/annos_csv/state24_paths_density_labels_13k_Feb26-NoOverlapDistrict.csv\""
   ]
  },
  {
   "cell_type": "code",
   "execution_count": 2,
   "metadata": {},
   "outputs": [],
   "source": [
    "from __future__ import absolute_import\n",
    "from __future__ import division\n",
    "from __future__ import print_function\n",
    "import argparse\n",
    "import os\n",
    "import sys\n",
    "import time\n",
    "import pickle\n",
    "import numpy as np\n",
    "import pandas as pd\n",
    "import math\n",
    "from six.moves import xrange\n",
    "import tensorflow as tf\n",
    "import gdal\n",
    "from matplotlib import pyplot as plt\n",
    "\n",
    "df_annos = pd.read_csv(input_file, index_col=0)\n",
    "r = 2.25\n",
    "\n",
    "def distance(origin, destination):\n",
    "    lat1, lon1 = origin\n",
    "    lat2, lon2 = destination\n",
    "    radius = 6371 # km\n",
    "\n",
    "    dlat = math.radians(lat2-lat1)\n",
    "    dlon = math.radians(lon2-lon1)\n",
    "    a = math.sin(dlat/2) * math.sin(dlat/2) + math.cos(math.radians(lat1)) \\\n",
    "        * math.cos(math.radians(lat2)) * math.sin(dlon/2) * math.sin(dlon/2)\n",
    "    c = 2 * math.atan2(math.sqrt(a), math.sqrt(1-a))\n",
    "    d = radius * c\n",
    "    return d\n",
    "    \n",
    "def get_latlongs():\n",
    "    countt = 0\n",
    "    latlongs = []\n",
    "    for index, row in df_annos.iterrows():\n",
    "        countt +=1\n",
    "        village_id = row.village_id\n",
    "        pop_density = row.pop_density\n",
    "        lat = row.latitude\n",
    "        lon = row.longitude\n",
    "        latlongs.append((village_id, (lat, lon)))\n",
    "    return latlongs\n",
    "\n",
    "elems = get_latlongs()"
   ]
  },
  {
   "cell_type": "code",
   "execution_count": null,
   "metadata": {},
   "outputs": [],
   "source": [
    "df_annos_district = pd.read_csv(\"../data/annos_csv/India_pov_pop_Feb25.csv\", index_col=0)\n",
    "def different_districts(v_id, v_id2):\n",
    "    try:\n",
    "        d1 = df_annos_district[df_annos_district['village_id'] == v_id].district_id.iloc[0]\n",
    "        d2 = df_annos_district[df_annos_district['village_id'] == v_id2].district_id.iloc[0]\n",
    "        return (d1 != d2)\n",
    "    except: \n",
    "        return False"
   ]
  },
  {
   "cell_type": "code",
   "execution_count": null,
   "metadata": {},
   "outputs": [],
   "source": []
  },
  {
   "cell_type": "code",
   "execution_count": null,
   "metadata": {},
   "outputs": [
    {
     "name": "stdout",
     "output_type": "stream",
     "text": [
      "1000\n"
     ]
    }
   ],
   "source": [
    "overlapping_ids = []\n",
    "km_distances = []\n",
    "km_distances_overlapping = []\n",
    "ids_to_remove = set([])\n",
    "\n",
    "countt = 0\n",
    "for (v_id, degrees) in elems:\n",
    "    (lat1, lon1) = degrees\n",
    "    countt += 1\n",
    "    if countt % 1000 == 0:\n",
    "            print(countt)\n",
    "    for (v_id2, degrees2) in elems:\n",
    "        (lat2, lon2) = degrees2\n",
    "        if v_id != v_id2:\n",
    "            distance_km = distance(degrees, degrees2)\n",
    "            km_distances.append(distance_km)\n",
    "            if (distance_km < r):\n",
    "                if different_districts(v_id, v_id2):\n",
    "                    ids_to_remove.add(v_id)\n",
    "                    km_distances_overlapping.append(distance_km)\n",
    "                    overlapping_ids.append(((v_id, v_id2), (degrees, degrees2))) "
   ]
  },
  {
   "cell_type": "code",
   "execution_count": null,
   "metadata": {},
   "outputs": [],
   "source": [
    "print(len(ids_to_remove))"
   ]
  },
  {
   "cell_type": "code",
   "execution_count": null,
   "metadata": {},
   "outputs": [],
   "source": [
    "df_annos = pd.read_csv(input_file, index_col=0)\n",
    "print(df_annos.count(axis=0)[0])\n",
    "y = list(ids_to_remove)\n",
    "df_annos = df_annos[-df_annos['village_id'].isin(y)]\n",
    "print(df_annos.count(axis=0)[0])"
   ]
  },
  {
   "cell_type": "code",
   "execution_count": null,
   "metadata": {},
   "outputs": [],
   "source": [
    "print(df_annos[df_annos['partition'] == 'train'].count(axis=0)[0])\n",
    "print(df_annos[df_annos['partition'] == 'val'].count(axis=0)[0])\n",
    "print(df_annos[df_annos['partition'] == 'test'].count(axis=0)[0])\n",
    "relevant_ids = list(df_annos['village_id'])\n",
    "df_temp = df_annos_district[df_annos_district['village_id'].isin(relevant_ids)]\n",
    "print(df_temp.district_id.value_counts())"
   ]
  },
  {
   "cell_type": "code",
   "execution_count": null,
   "metadata": {},
   "outputs": [],
   "source": [
    "#TODO Manually: distribute the subdistricts accordingly\n",
    "train = [410, 409, 413, 411, 420, 419, 412, 421, 418, 415, 416]\n",
    "val = [423, 422, 424]\n",
    "test = [417, 414]\n",
    "# print(1308/(1308+2543+8827))\n",
    "# print(2543/(1308+2543+8827))\n",
    "# print(8827/(1308+2543+8827))\n",
    "\n",
    "# total = (1739+1170+1078+1060+1018+1005+806+625+545+545+521+518+222+217+215+27)\n",
    "# print((217+1060)/total)\n",
    "# print((1170+545+518)/total)\n",
    "# print((1739+1078+1005+806+625+545+215+27+521+1018+222)/total)\n",
    "# print((217+1060)/total + (1170+545+518)/total + (1739+1078+1005+806+625+545+215+27+521+1018+222)/total)"
   ]
  },
  {
   "cell_type": "code",
   "execution_count": null,
   "metadata": {},
   "outputs": [],
   "source": [
    "print(df_annos.count(axis=0)[0])\n",
    "\n",
    "relevant_ids = list(df_annos['village_id'])\n",
    "df_relevant = df_annos_district[df_annos_district['village_id'].isin(relevant_ids)]\n",
    "print(df_relevant.count(axis=0)[0])\n",
    "\n",
    "#y = list(ids_to_remove)\n",
    "df_temp = df_relevant[df_relevant['district_id'].isin(test)]\n",
    "test_ids = list(df_temp['village_id'])\n",
    "num_test = len(test_ids) \n",
    "#print(num_test)\n",
    "\n",
    "df_temp = df_relevant[df_relevant['district_id'].isin(val)]\n",
    "val_ids = list(df_temp['village_id'])\n",
    "num_val = len(val_ids)\n",
    "#print(num_val)\n",
    "\n",
    "df_temp = df_relevant[df_relevant['district_id'].isin(train)]\n",
    "train_ids = list(df_temp['village_id'])\n",
    "num_train = len(train_ids)\n",
    "#print(num_train)\n",
    "\n",
    "print(num_train+num_test+num_val)\n",
    "print(num_test/(num_train+num_test+num_val))\n",
    "print(num_val/(num_train+num_test+num_val))\n",
    "print(num_train/(num_train+num_test+num_val))\n",
    "\n",
    "\n",
    "df_annos.set_value(df_annos['village_id'].isin(test_ids), \"partition\", \"test\")\n",
    "df_annos.set_value(df_annos['village_id'].isin(val_ids), \"partition\", \"val\")\n",
    "df_annos.set_value(df_annos['village_id'].isin(train_ids), \"partition\", \"train\")\n",
    "\n"
   ]
  },
  {
   "cell_type": "code",
   "execution_count": null,
   "metadata": {},
   "outputs": [],
   "source": [
    "print(df_annos[df_annos['partition'] == 'train'].count(axis=0)[0])\n",
    "print(df_annos[df_annos['partition'] == 'val'].count(axis=0)[0])\n",
    "print(df_annos[df_annos['partition'] == 'test'].count(axis=0)[0])"
   ]
  },
  {
   "cell_type": "code",
   "execution_count": null,
   "metadata": {},
   "outputs": [],
   "source": [
    "print(df_annos.count(axis=0)[0])"
   ]
  },
  {
   "cell_type": "code",
   "execution_count": null,
   "metadata": {},
   "outputs": [],
   "source": [
    "#TODO uncomment to save to CSV \n",
    "#df_annos.to_csv(output_file)"
   ]
  },
  {
   "cell_type": "code",
   "execution_count": null,
   "metadata": {},
   "outputs": [],
   "source": []
  },
  {
   "cell_type": "code",
   "execution_count": null,
   "metadata": {},
   "outputs": [],
   "source": []
  }
 ],
 "metadata": {
  "kernelspec": {
   "display_name": "Python 3",
   "language": "python",
   "name": "python3"
  },
  "language_info": {
   "codemirror_mode": {
    "name": "ipython",
    "version": 3
   },
   "file_extension": ".py",
   "mimetype": "text/x-python",
   "name": "python",
   "nbconvert_exporter": "python",
   "pygments_lexer": "ipython3",
   "version": "3.5.2"
  }
 },
 "nbformat": 4,
 "nbformat_minor": 2
}
