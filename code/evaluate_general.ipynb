{
 "cells": [
  {
   "cell_type": "code",
   "execution_count": 1,
   "metadata": {},
   "outputs": [],
   "source": [
    "%matplotlib inline\n",
    "from __future__ import absolute_import\n",
    "from __future__ import division\n",
    "from __future__ import print_function\n",
    "\n",
    "import math\n",
    "import argparse\n",
    "import pandas as pd\n",
    "import numpy as np\n",
    "\n",
    "import tensorflow as tf\n",
    "import tensorflow.contrib.slim as slim\n",
    "\n",
    "import matplotlib.pyplot as plt\n",
    "from sklearn.metrics import mean_squared_error, r2_score, accuracy_score\n",
    "from scipy.stats import pearsonr\n",
    "\n",
    "import data_input_jpg as dataset"
   ]
  },
  {
   "cell_type": "markdown",
   "metadata": {},
   "source": [
    "## Evaluation Configurations"
   ]
  },
  {
   "cell_type": "code",
   "execution_count": 2,
   "metadata": {},
   "outputs": [],
   "source": [
    "import vgg_deep_combo as vgg\n",
    "ANNOS_CSV = '/home/timhu/data/state24_jpgpaths_clean_17k_May17.csv'\n",
    "DATA = 'l8s1'\n",
    "JPG_DIR = '/home/timhu/data/all_jpg/'\n",
    "LOG_DIR = '/home/timhu/logs/regression_l8s1_deepcombo_state24_lr-5_decay-1_wd5e-3_drop06_vgg_Jul17'\n",
    "IMAGE_HEIGHT = 224 \n",
    "IMAGE_WIDTH = 224\n",
    "IMAGE_CHANNEL = 6\n",
    "FLAGS = argparse.Namespace(dropout_keep= 0.8,\n",
    "                           batch_size= 1, # for eval, go through one by one\n",
    "                           output_size = 1) # embedding size or class number "
   ]
  },
  {
   "cell_type": "code",
   "execution_count": 3,
   "metadata": {},
   "outputs": [
    {
     "name": "stdout",
     "output_type": "stream",
     "text": [
      "Lastest checkpoint: /home/timhu/logs/regression_l8s1_deepcombo_state24_lr-5_decay-1_wd5e-3_drop06_vgg_Jul17/model.ckpt-9039\n"
     ]
    }
   ],
   "source": [
    "# find model checkpoint\n",
    "ckpt_state = tf.train.get_checkpoint_state(LOG_DIR)\n",
    "if ckpt_state and ckpt_state.model_checkpoint_path:\n",
    "    CKPT = ckpt_state.model_checkpoint_path\n",
    "    print('Lastest checkpoint:', CKPT)\n",
    "else:\n",
    "    print(\"ckpt doesn't exists at:\", LOG_DIR)"
   ]
  },
  {
   "cell_type": "markdown",
   "metadata": {},
   "source": [
    "## Data/Model Loading"
   ]
  },
  {
   "cell_type": "code",
   "execution_count": 4,
   "metadata": {},
   "outputs": [
    {
     "data": {
      "text/html": [
       "<div>\n",
       "<style>\n",
       "    .dataframe thead tr:only-child th {\n",
       "        text-align: right;\n",
       "    }\n",
       "\n",
       "    .dataframe thead th {\n",
       "        text-align: left;\n",
       "    }\n",
       "\n",
       "    .dataframe tbody tr th {\n",
       "        vertical-align: top;\n",
       "    }\n",
       "</style>\n",
       "<table border=\"1\" class=\"dataframe\">\n",
       "  <thead>\n",
       "    <tr style=\"text-align: right;\">\n",
       "      <th></th>\n",
       "      <th>village_id</th>\n",
       "      <th>state_id</th>\n",
       "      <th>district_id</th>\n",
       "      <th>subdistrict_id</th>\n",
       "      <th>secc_pop</th>\n",
       "      <th>secc_pop_scaled</th>\n",
       "      <th>area</th>\n",
       "      <th>longitude</th>\n",
       "      <th>latitude</th>\n",
       "      <th>pop_density</th>\n",
       "      <th>pop_density_log2</th>\n",
       "      <th>partition</th>\n",
       "      <th>l8_vis_path</th>\n",
       "      <th>s1_vis_path</th>\n",
       "      <th>l8_vis_jpg</th>\n",
       "      <th>s1_vis_jpg</th>\n",
       "    </tr>\n",
       "  </thead>\n",
       "  <tbody>\n",
       "    <tr>\n",
       "      <th>17409</th>\n",
       "      <td>459864</td>\n",
       "      <td>24</td>\n",
       "      <td>493</td>\n",
       "      <td>3946</td>\n",
       "      <td>910</td>\n",
       "      <td>813.500007</td>\n",
       "      <td>1.352651e+06</td>\n",
       "      <td>73.264463</td>\n",
       "      <td>20.979532</td>\n",
       "      <td>672.752845</td>\n",
       "      <td>9.393933</td>\n",
       "      <td>train</td>\n",
       "      <td>l8_median_india_vis/l8_median_india_vis_500x50...</td>\n",
       "      <td>s1_median_india_vis/s1_median_india_vis_500x50...</td>\n",
       "      <td>l8_median_india_vis/l8_median_india_vis_150x15...</td>\n",
       "      <td>s1_median_india_vis/s1_median_india_vis_450x45...</td>\n",
       "    </tr>\n",
       "    <tr>\n",
       "      <th>17410</th>\n",
       "      <td>459865</td>\n",
       "      <td>24</td>\n",
       "      <td>493</td>\n",
       "      <td>3946</td>\n",
       "      <td>2699</td>\n",
       "      <td>2428.550025</td>\n",
       "      <td>2.228533e+06</td>\n",
       "      <td>73.292703</td>\n",
       "      <td>20.977863</td>\n",
       "      <td>1211.110461</td>\n",
       "      <td>10.242115</td>\n",
       "      <td>train</td>\n",
       "      <td>l8_median_india_vis/l8_median_india_vis_500x50...</td>\n",
       "      <td>s1_median_india_vis/s1_median_india_vis_500x50...</td>\n",
       "      <td>l8_median_india_vis/l8_median_india_vis_150x15...</td>\n",
       "      <td>s1_median_india_vis/s1_median_india_vis_450x45...</td>\n",
       "    </tr>\n",
       "    <tr>\n",
       "      <th>17411</th>\n",
       "      <td>459866</td>\n",
       "      <td>24</td>\n",
       "      <td>493</td>\n",
       "      <td>3946</td>\n",
       "      <td>4917</td>\n",
       "      <td>4408.200042</td>\n",
       "      <td>3.713389e+06</td>\n",
       "      <td>73.314195</td>\n",
       "      <td>20.971772</td>\n",
       "      <td>1324.127238</td>\n",
       "      <td>10.370826</td>\n",
       "      <td>train</td>\n",
       "      <td>l8_median_india_vis/l8_median_india_vis_500x50...</td>\n",
       "      <td>s1_median_india_vis/s1_median_india_vis_500x50...</td>\n",
       "      <td>l8_median_india_vis/l8_median_india_vis_150x15...</td>\n",
       "      <td>s1_median_india_vis/s1_median_india_vis_450x45...</td>\n",
       "    </tr>\n",
       "    <tr>\n",
       "      <th>17412</th>\n",
       "      <td>459867</td>\n",
       "      <td>24</td>\n",
       "      <td>493</td>\n",
       "      <td>3946</td>\n",
       "      <td>1400</td>\n",
       "      <td>1257.800013</td>\n",
       "      <td>3.833468e+06</td>\n",
       "      <td>73.296257</td>\n",
       "      <td>20.961858</td>\n",
       "      <td>365.204550</td>\n",
       "      <td>8.512561</td>\n",
       "      <td>train</td>\n",
       "      <td>l8_median_india_vis/l8_median_india_vis_500x50...</td>\n",
       "      <td>s1_median_india_vis/s1_median_india_vis_500x50...</td>\n",
       "      <td>l8_median_india_vis/l8_median_india_vis_150x15...</td>\n",
       "      <td>s1_median_india_vis/s1_median_india_vis_450x45...</td>\n",
       "    </tr>\n",
       "    <tr>\n",
       "      <th>17413</th>\n",
       "      <td>459868</td>\n",
       "      <td>24</td>\n",
       "      <td>493</td>\n",
       "      <td>3946</td>\n",
       "      <td>1039</td>\n",
       "      <td>934.300009</td>\n",
       "      <td>3.282347e+06</td>\n",
       "      <td>73.320953</td>\n",
       "      <td>20.961741</td>\n",
       "      <td>316.541755</td>\n",
       "      <td>8.306252</td>\n",
       "      <td>train</td>\n",
       "      <td>l8_median_india_vis/l8_median_india_vis_500x50...</td>\n",
       "      <td>s1_median_india_vis/s1_median_india_vis_500x50...</td>\n",
       "      <td>l8_median_india_vis/l8_median_india_vis_150x15...</td>\n",
       "      <td>s1_median_india_vis/s1_median_india_vis_450x45...</td>\n",
       "    </tr>\n",
       "  </tbody>\n",
       "</table>\n",
       "</div>"
      ],
      "text/plain": [
       "       village_id  state_id  district_id  subdistrict_id  secc_pop  \\\n",
       "17409      459864        24          493            3946       910   \n",
       "17410      459865        24          493            3946      2699   \n",
       "17411      459866        24          493            3946      4917   \n",
       "17412      459867        24          493            3946      1400   \n",
       "17413      459868        24          493            3946      1039   \n",
       "\n",
       "       secc_pop_scaled          area  longitude   latitude  pop_density  \\\n",
       "17409       813.500007  1.352651e+06  73.264463  20.979532   672.752845   \n",
       "17410      2428.550025  2.228533e+06  73.292703  20.977863  1211.110461   \n",
       "17411      4408.200042  3.713389e+06  73.314195  20.971772  1324.127238   \n",
       "17412      1257.800013  3.833468e+06  73.296257  20.961858   365.204550   \n",
       "17413       934.300009  3.282347e+06  73.320953  20.961741   316.541755   \n",
       "\n",
       "       pop_density_log2 partition  \\\n",
       "17409          9.393933     train   \n",
       "17410         10.242115     train   \n",
       "17411         10.370826     train   \n",
       "17412          8.512561     train   \n",
       "17413          8.306252     train   \n",
       "\n",
       "                                             l8_vis_path  \\\n",
       "17409  l8_median_india_vis/l8_median_india_vis_500x50...   \n",
       "17410  l8_median_india_vis/l8_median_india_vis_500x50...   \n",
       "17411  l8_median_india_vis/l8_median_india_vis_500x50...   \n",
       "17412  l8_median_india_vis/l8_median_india_vis_500x50...   \n",
       "17413  l8_median_india_vis/l8_median_india_vis_500x50...   \n",
       "\n",
       "                                             s1_vis_path  \\\n",
       "17409  s1_median_india_vis/s1_median_india_vis_500x50...   \n",
       "17410  s1_median_india_vis/s1_median_india_vis_500x50...   \n",
       "17411  s1_median_india_vis/s1_median_india_vis_500x50...   \n",
       "17412  s1_median_india_vis/s1_median_india_vis_500x50...   \n",
       "17413  s1_median_india_vis/s1_median_india_vis_500x50...   \n",
       "\n",
       "                                              l8_vis_jpg  \\\n",
       "17409  l8_median_india_vis/l8_median_india_vis_150x15...   \n",
       "17410  l8_median_india_vis/l8_median_india_vis_150x15...   \n",
       "17411  l8_median_india_vis/l8_median_india_vis_150x15...   \n",
       "17412  l8_median_india_vis/l8_median_india_vis_150x15...   \n",
       "17413  l8_median_india_vis/l8_median_india_vis_150x15...   \n",
       "\n",
       "                                              s1_vis_jpg  \n",
       "17409  s1_median_india_vis/s1_median_india_vis_450x45...  \n",
       "17410  s1_median_india_vis/s1_median_india_vis_450x45...  \n",
       "17411  s1_median_india_vis/s1_median_india_vis_450x45...  \n",
       "17412  s1_median_india_vis/s1_median_india_vis_450x45...  \n",
       "17413  s1_median_india_vis/s1_median_india_vis_450x45...  "
      ]
     },
     "execution_count": 4,
     "metadata": {},
     "output_type": "execute_result"
    }
   ],
   "source": [
    "# load annotation CSV\n",
    "df_annos = pd.read_csv(ANNOS_CSV, index_col=0)\n",
    "df_annos.tail()"
   ]
  },
  {
   "cell_type": "code",
   "execution_count": 5,
   "metadata": {},
   "outputs": [
    {
     "name": "stdout",
     "output_type": "stream",
     "text": [
      "total number of test images: 2301\n"
     ]
    }
   ],
   "source": [
    "# load input image file, labels, village_ids, for model inference\n",
    "if DATA == 'l8':\n",
    "    path_col = ['l8_vis_jpg']\n",
    "elif DATA == 's1':\n",
    "    path_col = ['s1_vis_jpg']\n",
    "elif DATA == 'l8s1':\n",
    "    path_col = ['l8_vis_jpg', 's1_vis_jpg']\n",
    "input_files_test = JPG_DIR + df_annos.loc[df_annos.partition == 'test', path_col].values\n",
    "input_labels_test = df_annos.loc[df_annos.partition == 'test', 'pop_density_log2'].values\n",
    "input_id_test = df_annos.loc[df_annos.partition == 'test', 'village_id'].values\n",
    "test_size = len(input_id_test)\n",
    "print('total number of test images:', test_size)"
   ]
  },
  {
   "cell_type": "code",
   "execution_count": 6,
   "metadata": {},
   "outputs": [
    {
     "data": {
      "text/html": [
       "<div>\n",
       "<style>\n",
       "    .dataframe thead tr:only-child th {\n",
       "        text-align: right;\n",
       "    }\n",
       "\n",
       "    .dataframe thead th {\n",
       "        text-align: left;\n",
       "    }\n",
       "\n",
       "    .dataframe tbody tr th {\n",
       "        vertical-align: top;\n",
       "    }\n",
       "</style>\n",
       "<table border=\"1\" class=\"dataframe\">\n",
       "  <thead>\n",
       "    <tr style=\"text-align: right;\">\n",
       "      <th></th>\n",
       "      <th>village_id</th>\n",
       "      <th>state_id</th>\n",
       "      <th>district_id</th>\n",
       "      <th>subdistrict_id</th>\n",
       "      <th>area</th>\n",
       "      <th>secc_pop</th>\n",
       "      <th>pop_density</th>\n",
       "      <th>pop_density_log2</th>\n",
       "    </tr>\n",
       "  </thead>\n",
       "  <tbody>\n",
       "    <tr>\n",
       "      <th>17233</th>\n",
       "      <td>459676</td>\n",
       "      <td>24</td>\n",
       "      <td>493</td>\n",
       "      <td>3944</td>\n",
       "      <td>8.166705</td>\n",
       "      <td>566</td>\n",
       "      <td>69.305794</td>\n",
       "      <td>6.114904</td>\n",
       "    </tr>\n",
       "    <tr>\n",
       "      <th>17234</th>\n",
       "      <td>459677</td>\n",
       "      <td>24</td>\n",
       "      <td>493</td>\n",
       "      <td>3944</td>\n",
       "      <td>1.470797</td>\n",
       "      <td>135</td>\n",
       "      <td>91.786971</td>\n",
       "      <td>6.520217</td>\n",
       "    </tr>\n",
       "    <tr>\n",
       "      <th>17235</th>\n",
       "      <td>459678</td>\n",
       "      <td>24</td>\n",
       "      <td>493</td>\n",
       "      <td>3944</td>\n",
       "      <td>15.863831</td>\n",
       "      <td>187</td>\n",
       "      <td>11.787821</td>\n",
       "      <td>3.559225</td>\n",
       "    </tr>\n",
       "    <tr>\n",
       "      <th>17236</th>\n",
       "      <td>459679</td>\n",
       "      <td>24</td>\n",
       "      <td>493</td>\n",
       "      <td>3944</td>\n",
       "      <td>2.002709</td>\n",
       "      <td>717</td>\n",
       "      <td>358.015124</td>\n",
       "      <td>8.483877</td>\n",
       "    </tr>\n",
       "    <tr>\n",
       "      <th>17237</th>\n",
       "      <td>459680</td>\n",
       "      <td>24</td>\n",
       "      <td>493</td>\n",
       "      <td>3944</td>\n",
       "      <td>2.344351</td>\n",
       "      <td>257</td>\n",
       "      <td>109.625221</td>\n",
       "      <td>6.776436</td>\n",
       "    </tr>\n",
       "  </tbody>\n",
       "</table>\n",
       "</div>"
      ],
      "text/plain": [
       "       village_id  state_id  district_id  subdistrict_id       area  secc_pop  \\\n",
       "17233      459676        24          493            3944   8.166705       566   \n",
       "17234      459677        24          493            3944   1.470797       135   \n",
       "17235      459678        24          493            3944  15.863831       187   \n",
       "17236      459679        24          493            3944   2.002709       717   \n",
       "17237      459680        24          493            3944   2.344351       257   \n",
       "\n",
       "       pop_density  pop_density_log2  \n",
       "17233    69.305794          6.114904  \n",
       "17234    91.786971          6.520217  \n",
       "17235    11.787821          3.559225  \n",
       "17236   358.015124          8.483877  \n",
       "17237   109.625221          6.776436  "
      ]
     },
     "execution_count": 6,
     "metadata": {},
     "output_type": "execute_result"
    }
   ],
   "source": [
    "#setup predition results table: \n",
    "# village_id, state_id, district_id, subdistrict_id, pop, log_pop, predict_pop, predict_log2_pop\n",
    "df_test = df_annos[df_annos.partition == 'test']\n",
    "df_test = df_test[['village_id','state_id','district_id','subdistrict_id','area', 'secc_pop', 'pop_density','pop_density_log2']]\n",
    "df_test.area = df_test.area / 1e6 # convert area from m2 to km2\n",
    "df_test.tail()"
   ]
  },
  {
   "cell_type": "code",
   "execution_count": 7,
   "metadata": {},
   "outputs": [
    {
     "name": "stdout",
     "output_type": "stream",
     "text": [
      "INFO:tensorflow:Restoring parameters from /home/timhu/logs/regression_l8s1_deepcombo_state24_lr-5_decay-1_wd5e-3_drop06_vgg_Jul17/model.ckpt-9039\n"
     ]
    }
   ],
   "source": [
    "tf.reset_default_graph()\n",
    "sess = tf.Session()\n",
    "with tf.device('/cpu:0'):\n",
    "    test_images_batch, test_labels_batch, test_ids_batch = dataset.input_batches(\n",
    "        FLAGS.batch_size, FLAGS.output_size, input_files_test, input_labels_test, input_id_test,\n",
    "        IMAGE_HEIGHT, IMAGE_WIDTH, IMAGE_CHANNEL, regression=True, augmentation=False, normalization=True)\n",
    "\n",
    "images_l8_placeholder = tf.placeholder(tf.float32, shape=[None, IMAGE_HEIGHT, IMAGE_WIDTH, 3]) \n",
    "images_s1_placeholder = tf.placeholder(tf.float32, shape=[None, IMAGE_HEIGHT, IMAGE_WIDTH, 3])\n",
    "labels_placeholder = tf.placeholder(tf.float32, shape=[None,])\n",
    "\n",
    "test_batches = int(test_size / FLAGS.batch_size) # number of training batches/steps in each epoch\n",
    "\n",
    "with slim.arg_scope(vgg.vgg_arg_scope()):\n",
    "    outputs, _ = vgg.vgg_16(images_l8_placeholder, images_s1_placeholder, num_classes=FLAGS.output_size, \n",
    "                           dropout_keep_prob=FLAGS.dropout_keep, is_training=False)\n",
    "    outputs = tf.squeeze(outputs)\n",
    "\n",
    "init = tf.global_variables_initializer()\n",
    "sess.run(init)\n",
    "restorer = tf.train.Saver()\n",
    "restorer.restore(sess, CKPT)"
   ]
  },
  {
   "cell_type": "markdown",
   "metadata": {},
   "source": [
    "## Model Inference (by default batch_size = 1)"
   ]
  },
  {
   "cell_type": "code",
   "execution_count": 8,
   "metadata": {},
   "outputs": [
    {
     "name": "stdout",
     "output_type": "stream",
     "text": [
      "finish batches: 0\n",
      "finish batches: 100\n",
      "finish batches: 200\n",
      "finish batches: 300\n",
      "finish batches: 400\n",
      "finish batches: 500\n",
      "finish batches: 600\n",
      "finish batches: 700\n",
      "finish batches: 800\n",
      "finish batches: 900\n",
      "finish batches: 1000\n",
      "finish batches: 1100\n",
      "finish batches: 1200\n",
      "finish batches: 1300\n",
      "finish batches: 1400\n",
      "finish batches: 1500\n",
      "finish batches: 1600\n",
      "finish batches: 1700\n",
      "finish batches: 1800\n",
      "finish batches: 1900\n",
      "finish batches: 2000\n",
      "finish batches: 2100\n",
      "finish batches: 2200\n",
      "finish batches: 2300\n"
     ]
    }
   ],
   "source": [
    "infe_log2_out = []\n",
    "infe_ids = []\n",
    "\n",
    "for step in range(test_batches):\n",
    "    if  step % 100 == 0:\n",
    "        print('finish batches:', step)\n",
    "    images_out, labels_out, ids_out = sess.run([test_images_batch, test_labels_batch, test_ids_batch])\n",
    "    feed_dict = {images_l8_placeholder: images_out[:,:,:,:3],images_s1_placeholder: images_out[:,:,:,3:],\n",
    "                 labels_placeholder: labels_out}\n",
    "    log2_out = sess.run(outputs, feed_dict = feed_dict)\n",
    "    infe_log2_out.append(log2_out)\n",
    "    infe_ids.append(ids_out[0])"
   ]
  },
  {
   "cell_type": "code",
   "execution_count": 9,
   "metadata": {},
   "outputs": [
    {
     "data": {
      "text/html": [
       "<div>\n",
       "<style>\n",
       "    .dataframe thead tr:only-child th {\n",
       "        text-align: right;\n",
       "    }\n",
       "\n",
       "    .dataframe thead th {\n",
       "        text-align: left;\n",
       "    }\n",
       "\n",
       "    .dataframe tbody tr th {\n",
       "        vertical-align: top;\n",
       "    }\n",
       "</style>\n",
       "<table border=\"1\" class=\"dataframe\">\n",
       "  <thead>\n",
       "    <tr style=\"text-align: right;\">\n",
       "      <th></th>\n",
       "      <th>village_id</th>\n",
       "      <th>state_id</th>\n",
       "      <th>district_id</th>\n",
       "      <th>subdistrict_id</th>\n",
       "      <th>area</th>\n",
       "      <th>secc_pop</th>\n",
       "      <th>pop_density</th>\n",
       "      <th>pop_density_log2</th>\n",
       "      <th>pred_log2_density</th>\n",
       "      <th>pre_density</th>\n",
       "    </tr>\n",
       "  </thead>\n",
       "  <tbody>\n",
       "    <tr>\n",
       "      <th>0</th>\n",
       "      <td>442925</td>\n",
       "      <td>24</td>\n",
       "      <td>468</td>\n",
       "      <td>3731</td>\n",
       "      <td>16.884658</td>\n",
       "      <td>1784</td>\n",
       "      <td>105.658046</td>\n",
       "      <td>6.723259</td>\n",
       "      <td>6.525315</td>\n",
       "      <td>92.111877</td>\n",
       "    </tr>\n",
       "    <tr>\n",
       "      <th>1</th>\n",
       "      <td>442926</td>\n",
       "      <td>24</td>\n",
       "      <td>468</td>\n",
       "      <td>3731</td>\n",
       "      <td>12.621116</td>\n",
       "      <td>1388</td>\n",
       "      <td>109.974423</td>\n",
       "      <td>6.781024</td>\n",
       "      <td>5.593790</td>\n",
       "      <td>48.294587</td>\n",
       "    </tr>\n",
       "    <tr>\n",
       "      <th>2</th>\n",
       "      <td>442927</td>\n",
       "      <td>24</td>\n",
       "      <td>468</td>\n",
       "      <td>3731</td>\n",
       "      <td>30.255469</td>\n",
       "      <td>10463</td>\n",
       "      <td>345.821779</td>\n",
       "      <td>8.433885</td>\n",
       "      <td>6.749310</td>\n",
       "      <td>107.583312</td>\n",
       "    </tr>\n",
       "    <tr>\n",
       "      <th>3</th>\n",
       "      <td>442928</td>\n",
       "      <td>24</td>\n",
       "      <td>468</td>\n",
       "      <td>3731</td>\n",
       "      <td>21.588186</td>\n",
       "      <td>3515</td>\n",
       "      <td>162.820533</td>\n",
       "      <td>7.347139</td>\n",
       "      <td>6.254448</td>\n",
       "      <td>76.344293</td>\n",
       "    </tr>\n",
       "    <tr>\n",
       "      <th>4</th>\n",
       "      <td>442929</td>\n",
       "      <td>24</td>\n",
       "      <td>468</td>\n",
       "      <td>3731</td>\n",
       "      <td>30.228891</td>\n",
       "      <td>11790</td>\n",
       "      <td>390.024234</td>\n",
       "      <td>8.607420</td>\n",
       "      <td>7.898791</td>\n",
       "      <td>238.656416</td>\n",
       "    </tr>\n",
       "  </tbody>\n",
       "</table>\n",
       "</div>"
      ],
      "text/plain": [
       "   village_id  state_id  district_id  subdistrict_id       area  secc_pop  \\\n",
       "0      442925        24          468            3731  16.884658      1784   \n",
       "1      442926        24          468            3731  12.621116      1388   \n",
       "2      442927        24          468            3731  30.255469     10463   \n",
       "3      442928        24          468            3731  21.588186      3515   \n",
       "4      442929        24          468            3731  30.228891     11790   \n",
       "\n",
       "   pop_density  pop_density_log2  pred_log2_density  pre_density  \n",
       "0   105.658046          6.723259           6.525315    92.111877  \n",
       "1   109.974423          6.781024           5.593790    48.294587  \n",
       "2   345.821779          8.433885           6.749310   107.583312  \n",
       "3   162.820533          7.347139           6.254448    76.344293  \n",
       "4   390.024234          8.607420           7.898791   238.656416  "
      ]
     },
     "execution_count": 9,
     "metadata": {},
     "output_type": "execute_result"
    }
   ],
   "source": [
    "# merge inference results with prediction table \n",
    "df_pred = pd.DataFrame({'village_id': infe_ids, 'pred_log2_density': infe_log2_out})\n",
    "df_res = pd.merge(df_test, df_pred, on='village_id', how = 'left')\n",
    "df_res['pre_density'] = 2 ** df_res.pred_log2_density\n",
    "df_res.head()"
   ]
  },
  {
   "cell_type": "markdown",
   "metadata": {},
   "source": [
    "## Evaluation Plots/Stats"
   ]
  },
  {
   "cell_type": "markdown",
   "metadata": {},
   "source": [
    "### 1. Direct Sum Aggregation comparison"
   ]
  },
  {
   "cell_type": "code",
   "execution_count": 10,
   "metadata": {},
   "outputs": [],
   "source": [
    "df_direct_log2_sum = df_res.groupby('subdistrict_id')['pop_density_log2', 'pred_log2_density'].agg(np.sum)\n",
    "true_subdistrict_vals = df_direct_log2_sum.pop_density_log2.values\n",
    "pred_subdistrict_vals = df_direct_log2_sum.pred_log2_density.values"
   ]
  },
  {
   "cell_type": "code",
   "execution_count": 11,
   "metadata": {},
   "outputs": [
    {
     "data": {
      "image/png": "[encoded data removed]",
      "text/plain": [
       "<matplotlib.figure.Figure at 0x7f61cde6d390>"
      ]
     },
     "metadata": {},
     "output_type": "display_data"
    }
   ],
   "source": [
    "plt.title(\"Direct Sum Aggregation comparison of log2 population density on subdistrict level\")\n",
    "plt.ylabel(\"Sum of Predicted subdistrict densities (log 2)\")\n",
    "plt.xlabel(\"Sum of True subdistrict densities (log 2)\")\n",
    "r2 = r2_score(true_subdistrict_vals, pred_subdistrict_vals)\n",
    "p = pearsonr(true_subdistrict_vals, pred_subdistrict_vals)[0]\n",
    "plt.figtext(0.7, 0.2, \"r2 = %.3f\" % r2)\n",
    "plt.figtext(0.7, 0.15, \"Pearson = %.3f\" % p)\n",
    "plt.scatter(true_subdistrict_vals, pred_subdistrict_vals, alpha=0.5)\n",
    "plt.show()"
   ]
  },
  {
   "cell_type": "markdown",
   "metadata": {},
   "source": [
    "This uses the same methods as the plot shown in the presentation at the end of quarter. The comparison of population density between predition and ground-truth is on subdistrict level, and taking the direct sum of each log2 density value from each subdistrict. It's not a valid comparison, because the subdistricts with more villages would get higher aggregated log2 value, and vice versa. \n",
    "\n",
    "It would be better to compare the average population density on subdistricts."
   ]
  },
  {
   "cell_type": "markdown",
   "metadata": {},
   "source": [
    "### 2. Direct Average Aggregation comparison"
   ]
  },
  {
   "cell_type": "code",
   "execution_count": 12,
   "metadata": {},
   "outputs": [],
   "source": [
    "df_direct_log2_ave = df_res.groupby('subdistrict_id')['pop_density_log2', 'pred_log2_density'].agg(np.mean)\n",
    "true_subdistrict_vals = df_direct_log2_ave.pop_density_log2.values\n",
    "pred_subdistrict_vals = df_direct_log2_ave.pred_log2_density.values"
   ]
  },
  {
   "cell_type": "code",
   "execution_count": 13,
   "metadata": {
    "scrolled": true
   },
   "outputs": [
    {
     "data": {
      "image/png": "[encoded data removed]",
      "text/plain": [
       "<matplotlib.figure.Figure at 0x7f61c802fe80>"
      ]
     },
     "metadata": {},
     "output_type": "display_data"
    }
   ],
   "source": [
    "plt.title(\"Direct Average Aggregation comparison of log2 population density on subdistrict level\")\n",
    "plt.ylabel(\"Average Predicted subdistrict densities (log 2)\")\n",
    "plt.xlabel(\"Average True subdistrict densities (log 2)\")\n",
    "r2 = r2_score(true_subdistrict_vals, pred_subdistrict_vals)\n",
    "p = pearsonr(true_subdistrict_vals, pred_subdistrict_vals)[0]\n",
    "plt.figtext(0.7, 0.2, \"r2 = %.3f\" % r2)\n",
    "plt.figtext(0.7, 0.15, \"Pearson = %.3f\" % p)\n",
    "plt.scatter(true_subdistrict_vals, pred_subdistrict_vals, alpha=0.5)\n",
    "plt.show()"
   ]
  },
  {
   "cell_type": "markdown",
   "metadata": {},
   "source": [
    "### 3. Weighted Average Aggregation comparison"
   ]
  },
  {
   "cell_type": "code",
   "execution_count": 26,
   "metadata": {},
   "outputs": [
    {
     "data": {
      "text/html": [
       "<div>\n",
       "<style>\n",
       "    .dataframe thead tr:only-child th {\n",
       "        text-align: right;\n",
       "    }\n",
       "\n",
       "    .dataframe thead th {\n",
       "        text-align: left;\n",
       "    }\n",
       "\n",
       "    .dataframe tbody tr th {\n",
       "        vertical-align: top;\n",
       "    }\n",
       "</style>\n",
       "<table border=\"1\" class=\"dataframe\">\n",
       "  <thead>\n",
       "    <tr style=\"text-align: right;\">\n",
       "      <th></th>\n",
       "      <th>secc_pop</th>\n",
       "      <th>pred_pop</th>\n",
       "      <th>area</th>\n",
       "      <th>secc_pop_density</th>\n",
       "      <th>pred_pop_density</th>\n",
       "      <th>secc_pop_density_log2</th>\n",
       "      <th>pred_pop_density_log2</th>\n",
       "    </tr>\n",
       "    <tr>\n",
       "      <th>subdistrict_id</th>\n",
       "      <th></th>\n",
       "      <th></th>\n",
       "      <th></th>\n",
       "      <th></th>\n",
       "      <th></th>\n",
       "      <th></th>\n",
       "      <th></th>\n",
       "    </tr>\n",
       "  </thead>\n",
       "  <tbody>\n",
       "    <tr>\n",
       "      <th>3731</th>\n",
       "      <td>29206</td>\n",
       "      <td>16351.269759</td>\n",
       "      <td>124.140994</td>\n",
       "      <td>235.264751</td>\n",
       "      <td>131.715312</td>\n",
       "      <td>7.878141</td>\n",
       "      <td>7.041279</td>\n",
       "    </tr>\n",
       "    <tr>\n",
       "      <th>3754</th>\n",
       "      <td>182693</td>\n",
       "      <td>127610.566033</td>\n",
       "      <td>430.495014</td>\n",
       "      <td>424.378899</td>\n",
       "      <td>296.427512</td>\n",
       "      <td>8.729209</td>\n",
       "      <td>8.211536</td>\n",
       "    </tr>\n",
       "    <tr>\n",
       "      <th>3766</th>\n",
       "      <td>211726</td>\n",
       "      <td>160375.683040</td>\n",
       "      <td>741.114073</td>\n",
       "      <td>285.686115</td>\n",
       "      <td>216.398108</td>\n",
       "      <td>8.158287</td>\n",
       "      <td>7.757544</td>\n",
       "    </tr>\n",
       "    <tr>\n",
       "      <th>3771</th>\n",
       "      <td>90814</td>\n",
       "      <td>97565.610579</td>\n",
       "      <td>356.940331</td>\n",
       "      <td>254.423477</td>\n",
       "      <td>273.338713</td>\n",
       "      <td>7.991088</td>\n",
       "      <td>8.094546</td>\n",
       "    </tr>\n",
       "    <tr>\n",
       "      <th>3792</th>\n",
       "      <td>100468</td>\n",
       "      <td>89987.259246</td>\n",
       "      <td>693.491349</td>\n",
       "      <td>144.872752</td>\n",
       "      <td>129.759743</td>\n",
       "      <td>7.178642</td>\n",
       "      <td>7.019699</td>\n",
       "    </tr>\n",
       "  </tbody>\n",
       "</table>\n",
       "</div>"
      ],
      "text/plain": [
       "                secc_pop       pred_pop        area  secc_pop_density  \\\n",
       "subdistrict_id                                                          \n",
       "3731               29206   16351.269759  124.140994        235.264751   \n",
       "3754              182693  127610.566033  430.495014        424.378899   \n",
       "3766              211726  160375.683040  741.114073        285.686115   \n",
       "3771               90814   97565.610579  356.940331        254.423477   \n",
       "3792              100468   89987.259246  693.491349        144.872752   \n",
       "\n",
       "                pred_pop_density  secc_pop_density_log2  pred_pop_density_log2  \n",
       "subdistrict_id                                                                  \n",
       "3731                  131.715312               7.878141               7.041279  \n",
       "3754                  296.427512               8.729209               8.211536  \n",
       "3766                  216.398108               8.158287               7.757544  \n",
       "3771                  273.338713               7.991088               8.094546  \n",
       "3792                  129.759743               7.178642               7.019699  "
      ]
     },
     "execution_count": 26,
     "metadata": {},
     "output_type": "execute_result"
    }
   ],
   "source": [
    "df_res['pred_pop'] = df_res.pre_density * df_res.area\n",
    "df_weighted_sum = df_res.groupby('subdistrict_id')['secc_pop', 'pred_pop','area'].agg(np.sum)\n",
    "df_weighted_sum['secc_pop_density'] = df_weighted_sum.secc_pop / df_weighted_sum.area\n",
    "df_weighted_sum['pred_pop_density'] = df_weighted_sum.pred_pop / df_weighted_sum.area\n",
    "df_weighted_sum['secc_pop_density_log2'] = np.log2(df_weighted_sum.secc_pop_density)\n",
    "df_weighted_sum['pred_pop_density_log2'] = np.log2(df_weighted_sum.pred_pop_density)\n",
    "df_weighted_sum.head()"
   ]
  },
  {
   "cell_type": "code",
   "execution_count": 27,
   "metadata": {},
   "outputs": [
    {
     "data": {
      "text/plain": [
       "<matplotlib.collections.PathCollection at 0x7f619c2a2940>"
      ]
     },
     "execution_count": 27,
     "metadata": {},
     "output_type": "execute_result"
    },
    {
     "data": {
      "image/png": "[encoded data removed]",
      "text/plain": [
       "<matplotlib.figure.Figure at 0x7f619c37e4a8>"
      ]
     },
     "metadata": {},
     "output_type": "display_data"
    }
   ],
   "source": [
    "true_subdistrict_vals = df_weighted_sum.secc_pop.values\n",
    "pred_subdistrict_vals = df_weighted_sum.pred_pop.values\n",
    "\n",
    "plt.title(\"comparison of aggregated population on subdistrict level\")\n",
    "plt.ylabel(\"Aggregated Predicted population\")\n",
    "plt.xlabel(\"Aggregated True population\")\n",
    "r2 = r2_score(true_subdistrict_vals, pred_subdistrict_vals)\n",
    "p = pearsonr(true_subdistrict_vals, pred_subdistrict_vals)[0]\n",
    "plt.figtext(0.7, 0.2, \"r2 = %.3f\" % r2)\n",
    "plt.figtext(0.7, 0.15, \"Pearson = %.3f\" % p)\n",
    "plt.scatter(true_subdistrict_vals, pred_subdistrict_vals, alpha=0.5)"
   ]
  },
  {
   "cell_type": "code",
   "execution_count": 28,
   "metadata": {},
   "outputs": [
    {
     "data": {
      "image/png": "[encoded data removed]",
      "text/plain": [
       "<matplotlib.figure.Figure at 0x7f619c371080>"
      ]
     },
     "metadata": {},
     "output_type": "display_data"
    }
   ],
   "source": [
    "true_subdistrict_vals = df_weighted_sum.secc_pop_density.values\n",
    "pred_subdistrict_vals = df_weighted_sum.pred_pop_density.values\n",
    "\n",
    "plt.title(\"comparison of weighted real population density on subdistrict level\")\n",
    "plt.ylabel(\"Weighted Predicted subdistrict densities\")\n",
    "plt.xlabel(\"Weighted True subdistrict densities\")\n",
    "r2 = r2_score(true_subdistrict_vals, pred_subdistrict_vals)\n",
    "p = pearsonr(true_subdistrict_vals, pred_subdistrict_vals)[0]\n",
    "plt.figtext(0.7, 0.2, \"r2 = %.3f\" % r2)\n",
    "plt.figtext(0.7, 0.15, \"Pearson = %.3f\" % p)\n",
    "plt.scatter(true_subdistrict_vals, pred_subdistrict_vals, alpha=0.5)\n",
    "plt.show()"
   ]
  },
  {
   "cell_type": "code",
   "execution_count": 30,
   "metadata": {},
   "outputs": [
    {
     "data": {
      "text/plain": [
       "<matplotlib.collections.PathCollection at 0x7f619c15b5f8>"
      ]
     },
     "execution_count": 30,
     "metadata": {},
     "output_type": "execute_result"
    },
    {
     "data": {
      "image/png": "[encoded data removed]",
      "text/plain": [
       "<matplotlib.figure.Figure at 0x7f619c250ba8>"
      ]
     },
     "metadata": {},
     "output_type": "display_data"
    }
   ],
   "source": [
    "true_subdistrict_vals = df_weighted_sum.secc_pop_density_log2.values\n",
    "pred_subdistrict_vals = df_weighted_sum.pred_pop_density_log2.values\n",
    "\n",
    "plt.title(\"comparison of weighted log2 population density on subdistrict level\")\n",
    "plt.ylabel(\"Weighted Predicted subdistrict densities - log2\")\n",
    "plt.xlabel(\"Weighted True subdistrict densities - log2\")\n",
    "r2 = r2_score(true_subdistrict_vals, pred_subdistrict_vals)\n",
    "p = pearsonr(true_subdistrict_vals, pred_subdistrict_vals)[0]\n",
    "plt.figtext(0.7, 0.2, \"r2 = %.3f\" % r2)\n",
    "plt.figtext(0.7, 0.15, \"Pearson = %.3f\" % p)\n",
    "plt.scatter(true_subdistrict_vals, pred_subdistrict_vals, alpha=0.5)"
   ]
  },
  {
   "cell_type": "code",
   "execution_count": null,
   "metadata": {},
   "outputs": [],
   "source": []
  }
 ],
 "metadata": {
  "kernelspec": {
   "display_name": "Python 3",
   "language": "python",
   "name": "python3"
  },
  "language_info": {
   "codemirror_mode": {
    "name": "ipython",
    "version": 3
   },
   "file_extension": ".py",
   "mimetype": "text/x-python",
   "name": "python",
   "nbconvert_exporter": "python",
   "pygments_lexer": "ipython3",
   "version": "3.5.2"
  }
 },
 "nbformat": 4,
 "nbformat_minor": 2
}
