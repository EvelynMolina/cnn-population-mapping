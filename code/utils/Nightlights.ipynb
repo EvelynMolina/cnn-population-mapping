{
 "cells": [
  {
   "cell_type": "code",
   "execution_count": 1,
   "metadata": {},
   "outputs": [],
   "source": [
    "# This script views collects all nightlight data \n",
    "# corresponding to the villages in a given CSV \n",
    "# \n",
    "# 'Cell' --> 'Run All' \n",
    "\n",
    "\n",
    "from __future__ import absolute_import\n",
    "from __future__ import division\n",
    "from __future__ import print_function\n",
    "import argparse\n",
    "import os\n",
    "import sys\n",
    "import time\n",
    "import pickle\n",
    "import numpy as np\n",
    "import pandas as pd\n",
    "from six.moves import xrange  \n",
    "import tensorflow as tf\n",
    "import gdal\n",
    "from matplotlib import pyplot as plt\n",
    "import geotiling as gt"
   ]
  },
  {
   "cell_type": "code",
   "execution_count": 2,
   "metadata": {},
   "outputs": [
    {
     "name": "stdout",
     "output_type": "stream",
     "text": [
      "<geotiling.ImageComposite object at 0x7fcfc2bba4a8>\n"
     ]
    }
   ],
   "source": [
    "df_annos = pd.read_csv(\"../data/annos_csv/state24_paths_density_labels_13k_Feb26-NoOverlapDistrict.csv\", index_col=0)\n",
    "img_path = \"/home/timhu/all_tif\"\n",
    "image_composite = gt.ImageComposite(\"../data/F182011.v4c_web.stable_lights.avg_vis.tif\", 1)\n",
    "\n",
    "print(image_composite)"
   ]
  },
  {
   "cell_type": "code",
   "execution_count": 3,
   "metadata": {},
   "outputs": [],
   "source": [
    "def nightlight_curr_image(i, km_side):\n",
    "    #lat = df_annos.loc[df_annos['pop_density_class'] == class_val].values[i][6]\n",
    "    lat = df_annos.latitude[i]\n",
    "    #lon = df_annos.loc[df_annos['pop_density_class'] == class_val].values[i][5]\n",
    "    lon = df_annos.longitude[i]\n",
    "    \n",
    "    col, row = image_composite.geoprops.lonlat2colrow(lon, lat)\n",
    "#     print(image_composite.geoprops.xOrigin)\n",
    "#     print(col, row)\n",
    "    #FACT: true same size would be 4.5 by 4.5 pixels since each pixel is about a km2\n",
    "    x = image_composite.gdal_dataset.ReadAsArray(col - int(km_side/2), row - int(km_side/2), km_side, km_side)\n",
    "    np.place(x, x == -2147483647, 0)\n",
    "    #print(x)\n",
    "    return x"
   ]
  },
  {
   "cell_type": "code",
   "execution_count": 4,
   "metadata": {},
   "outputs": [],
   "source": [
    "import numpy as np\n",
    "import pandas as pd\n",
    "import re,os,time, math, gdal\n",
    "from PIL import Image\n",
    "\n",
    "#df = pd.read_csv('/home/timhu/dfd-pop/data/annos_csv/state24_paths_density_labels_13k_Feb10.csv')\n",
    "\n",
    "NL_DIR = \"/home/timhu/nl_jpg/\"\n",
    "Wnl = Hnl = 5 \n",
    "NL_sums = []\n",
    "pop_densities = []\n",
    "\n",
    "def jpg_convert_save(tif_path, crop_width, crop_height, i):\n",
    "    jpg_path = re.sub('tif', 'jpg', tif_path)\n",
    "    jpg_path = re.sub('l8', 'nl', jpg_path)\n",
    "    jpg_path = re.sub('500x500', str(crop_width)+'x'+str(crop_height), jpg_path)\n",
    "\n",
    "    img_array = nightlight_curr_image(i, Wnl)\n",
    "    im = Image.fromarray(img_array)\n",
    "    im.save(os.path.join(NL_DIR, jpg_path), format='JPEG')\n",
    "    \n",
    "\n",
    "def get_NL_info(i):\n",
    "    img_array = nightlight_curr_image(i, Wnl)\n",
    "    a = img_array.flatten()\n",
    "    return sum(a)/25"
   ]
  },
  {
   "cell_type": "code",
   "execution_count": 5,
   "metadata": {},
   "outputs": [
    {
     "name": "stdout",
     "output_type": "stream",
     "text": [
      "12678\n",
      "12678\n"
     ]
    }
   ],
   "source": [
    "NL_sums = []\n",
    "pop_densities = []\n",
    "\n",
    "# @JAY this is the main data loop - NL sums are the input & pop densities are corresponding labels\n",
    "for i, row in df_annos.iterrows():\n",
    "    village_id = df_annos.village_id[i]\n",
    "    pop_density = df_annos.pop_density_log2[i]\n",
    "    #jpg_convert_save(l8_path, Wnl, Hnl, i) \n",
    "    nl_val = get_NL_info(i)\n",
    "    NL_sums.append(nl_val)\n",
    "    pop_densities.append(pop_density)\n",
    "    \n",
    "print(len(NL_sums))\n",
    "print(len(pop_densities))"
   ]
  },
  {
   "cell_type": "code",
   "execution_count": 6,
   "metadata": {},
   "outputs": [],
   "source": [
    "# plt.scatter(NL_sums, pop_densities,  color='black')"
   ]
  },
  {
   "cell_type": "code",
   "execution_count": 7,
   "metadata": {},
   "outputs": [],
   "source": [
    "# # License: BSD 3 clause\n",
    "\n",
    "\n",
    "# import matplotlib.pyplot as plt\n",
    "# import numpy as np\n",
    "# from sklearn import datasets, linear_model\n",
    "# from sklearn.metrics import mean_squared_error, r2_score\n",
    "\n",
    "# NL_sums = np.asarray(NL_sums).reshape(-1, 1)\n",
    "# pop_densities = np.asarray(pop_densities).reshape(-1, 1)\n",
    "\n",
    "# # # Use only one feature\n",
    "# # diabetes_X = diabetes.data[:, np.newaxis, 2]\n",
    "\n",
    "# # Split the data into training/testing sets\n",
    "# X_train = NL_sums[:-2000]\n",
    "# X_test = NL_sums[-2000:]\n",
    "\n",
    "# # Split the targets into training/testing sets\n",
    "# y_train = pop_densities[:-2000]\n",
    "# y_test = pop_densities[-2000:]\n",
    "\n",
    "# # Create linear regression object\n",
    "# regr = linear_model.LinearRegression()\n",
    "\n",
    "# # Train the model using the training sets\n",
    "# regr.fit(X_train, y_train)\n",
    "\n",
    "# # Make predictions using the testing set\n",
    "# y_pred = regr.predict(X_test)\n",
    "\n",
    "# # The coefficients\n",
    "# print('Coefficients: \\n', regr.coef_)\n",
    "# # The mean squared error\n",
    "# print(\"Mean squared error: %.2f\"\n",
    "#       % mean_squared_error(y_test, y_pred))\n",
    "# # Explained variance score: 1 is perfect prediction\n",
    "# print('r2 score: %.2f' % r2_score(y_test, y_pred))\n",
    "\n",
    "# # Plot outputs\n",
    "# plt.scatter(X_test, y_test,  color='black')\n",
    "# plt.plot(X_test, y_pred, color='blue', linewidth=3)\n",
    "# plt.xlabel('Max Nightlight Intensity')\n",
    "# plt.ylabel('Log2 Popuation Density')\n",
    "# # plt.xticks(())\n",
    "# # plt.yticks(())\n",
    "\n",
    "# plt.show()"
   ]
  },
  {
   "cell_type": "code",
   "execution_count": 8,
   "metadata": {},
   "outputs": [],
   "source": [
    "# y = pop_densities\n",
    "# predicted = NL_sums\n",
    "# fig, ax = plt.subplots()\n",
    "# ax.scatter(y, predicted, edgecolors=(0, 0, 0))\n",
    "# ax.plot([y.min(), y.max()], [y.min(), y.max()], 'k--', lw=4)\n",
    "# ax.set_xlabel('Measured')\n",
    "# ax.set_ylabel('Predicted')\n",
    "# plt.show()\n",
    "# print(sum(NL_sums)/12678)\n",
    "# print(sum(pop_densities)/12678)"
   ]
  },
  {
   "cell_type": "code",
   "execution_count": null,
   "metadata": {},
   "outputs": [],
   "source": []
  }
 ],
 "metadata": {
  "kernelspec": {
   "display_name": "Python 3",
   "language": "python",
   "name": "python3"
  },
  "language_info": {
   "codemirror_mode": {
    "name": "ipython",
    "version": 3
   },
   "file_extension": ".py",
   "mimetype": "text/x-python",
   "name": "python",
   "nbconvert_exporter": "python",
   "pygments_lexer": "ipython3",
   "version": "3.5.2"
  }
 },
 "nbformat": 4,
 "nbformat_minor": 2
}
