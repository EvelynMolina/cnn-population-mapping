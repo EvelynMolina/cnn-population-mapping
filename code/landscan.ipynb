{
 "cells": [
  {
   "cell_type": "code",
   "execution_count": 3,
   "metadata": {},
   "outputs": [],
   "source": [
    "# This notebook runs through the below csv and compares every row with Landscan \n",
    "# data from the below tiff file, outputting correlation metrics \n",
    "# \n",
    "# 'Cell' --> 'Run All' \n",
    "\n",
    "\n",
    "from __future__ import absolute_import\n",
    "from __future__ import division\n",
    "from __future__ import print_function\n",
    "\n",
    "import argparse\n",
    "import os\n",
    "import sys\n",
    "import time\n",
    "import pickle\n",
    "import numpy as np\n",
    "import pandas as pd\n",
    "from six.moves import xrange  \n",
    "import tensorflow as tf\n",
    "import gdal\n",
    "from matplotlib import pyplot as plt\n",
    "#import data_input as dataset\n",
    "import geotiling as gt"
   ]
  },
  {
   "cell_type": "code",
   "execution_count": 4,
   "metadata": {},
   "outputs": [],
   "source": [
    "df_annos = pd.read_csv(\"../data/annos_csv/state24_paths_density_labels_13k_Feb10.csv\", index_col=0)\n",
    "image_composite = gt.ImageComposite(\"../data/lspop2011.tif\", 1)"
   ]
  },
  {
   "cell_type": "code",
   "execution_count": 5,
   "metadata": {},
   "outputs": [],
   "source": [
    "# Example code for interacting with Landscan data \n",
    "\n",
    "lat, lon = 26.978193, 75.827624\n",
    "col, row = image_composite.geoprops.lonlat2colrow(lon, lat)\n",
    "# print(image_composite.geoprops.xOrigin)\n",
    "# print(col, row)\n",
    "x = image_composite.gdal_dataset.ReadAsArray(30699 - 200, 6842 - 200, 400, 400)\n",
    "#print(x)"
   ]
  },
  {
   "cell_type": "code",
   "execution_count": null,
   "metadata": {},
   "outputs": [],
   "source": []
  },
  {
   "cell_type": "code",
   "execution_count": 6,
   "metadata": {},
   "outputs": [
    {
     "name": "stdout",
     "output_type": "stream",
     "text": [
      "50100208\n",
      "50.100208\n"
     ]
    }
   ],
   "source": [
    "area = 1000000 \n",
    "total_persons = sum(sum(x))\n",
    "print(total_persons)\n",
    "pop_density_landscan = total_persons *1.0/ area\n",
    "print(pop_density_landscan)"
   ]
  },
  {
   "cell_type": "code",
   "execution_count": 7,
   "metadata": {},
   "outputs": [],
   "source": [
    "def get_class(pop_density):\n",
    "    pop_density_log2 = np.log2(pop_density)\n",
    "    pop_density_log2_int = np.minimum(np.maximum(np.floor(pop_density_log2),1),13).astype(int)\n",
    "    pop_density_class = pop_density_log2_int - 1\n",
    "    if pop_density_class < 3:\n",
    "        return 3\n",
    "    if pop_density_class > 9:\n",
    "        return 9\n",
    "    return pop_density_class"
   ]
  },
  {
   "cell_type": "code",
   "execution_count": 8,
   "metadata": {},
   "outputs": [
    {
     "name": "stdout",
     "output_type": "stream",
     "text": [
      "25.70950229686271\n",
      "30.566274388819895\n",
      "30.866666667\n"
     ]
    }
   ],
   "source": [
    "import math\n",
    "\n",
    "# 1 degree on earth's surface is about 111km\n",
    "# These photos have corner degree differences of about .2 degree \n",
    "# Thus, 1 image has edges about 22km long, showing an area of about 484 km^2 or 484000000 m ^2\n",
    "\n",
    "def get_landscan_density(lat, long, area):\n",
    "    #print(area)\n",
    "    area_km2 = area/(10**6)\n",
    "    size_box = int(area/(10**6)) + 1\n",
    "    col, row = image_composite.geoprops.lonlat2colrow(lon, lat)\n",
    "    x = image_composite.gdal_dataset.ReadAsArray(col - int(size_box/2), row - int(size_box/2), size_box, size_box)\n",
    "    total_persons = sum(sum(x))\n",
    "    pop_density_landscan = total_persons *1.0/ (size_box*size_box*math.cos(math.radians(lat)))\n",
    "    return abs(pop_density_landscan)\n",
    "\n",
    "lat1 = 33.6\n",
    "lat2 = 8\n",
    "lat3 = 0\n",
    "print(abs(30.866666667*math.cos(math.radians(lat1))))\n",
    "print(abs(30.866666667*math.cos(math.radians(lat2))))\n",
    "print(abs(30.866666667*math.cos(math.radians(lat3))))\n",
    "\n",
    "#In india, we range from 8 degrees north of the equator to about 33 degrees north of the equator\n",
    "#This equates to a range of 1 arc second = 30.86 meters to 1 arc-second = 25.71 meters"
   ]
  },
  {
   "cell_type": "code",
   "execution_count": 9,
   "metadata": {},
   "outputs": [],
   "source": [
    "def get_samples():\n",
    "    samples = []\n",
    "    for index, row in df_annos.iterrows():\n",
    "        village_id = row.village_id\n",
    "        pop_density = row.pop_density_log2\n",
    "        samples.append((village_id, pop_density))\n",
    "    return samples\n",
    "\n",
    "def get_lat_long(village_id):\n",
    "    long = df_annos.loc[df_annos['village_id'] == village_id].values[0][5]\n",
    "    lat = df_annos.loc[df_annos['village_id'] == village_id].values[0][6]\n",
    "    return (lat, long) \n",
    "\n",
    "def get_area(village_id):\n",
    "    return df_annos.loc[df_annos['village_id'] == village_id].values[0][4]"
   ]
  },
  {
   "cell_type": "code",
   "execution_count": 10,
   "metadata": {},
   "outputs": [],
   "source": [
    "sample_villages = get_samples()\n",
    "# each tuple is (village_id, denstiy)  "
   ]
  },
  {
   "cell_type": "code",
   "execution_count": 22,
   "metadata": {},
   "outputs": [
    {
     "name": "stdout",
     "output_type": "stream",
     "text": [
      "1000\n",
      "2000\n",
      "3000\n",
      "4000\n",
      "5000\n",
      "6000\n",
      "7000\n",
      "8000\n",
      "9000\n",
      "10000\n",
      "11000\n",
      "12000\n",
      "13000\n"
     ]
    }
   ],
   "source": [
    "density_landscan = []\n",
    "density_census = []\n",
    "\n",
    "count_trials = 0\n",
    "correct_trials = 0\n",
    "count_incorrect_trials = 0\n",
    "difference = 0\n",
    "count_per_class_landscan = [0,0,0,0,0,0,0,0,0,0,0,0,0]\n",
    "count_per_class_census = [0,0,0,0,0,0,0,0,0,0,0,0,0]\n",
    "differences = [0,0,0,0,0,0,0,0,0,0,0,0,0,0,0,0,0,0,0,0,0,0,0,0,0,0]\n",
    "class_landscan = []\n",
    "class_census = []\n",
    "rmse = 0\n",
    "\n",
    "# @JAY this is the main data loop - density_landscan are the input & density_census are corresponding labels\n",
    "for (village_id, census_den) in sample_villages:\n",
    "    if (count_trials % 1000 == 0 and count_trials > 0):\n",
    "        print(count_trials)\n",
    "    (lat, long) = get_lat_long(village_id)\n",
    "    if ((math.isnan(lat)) or (math.isnan(long))):\n",
    "        continue\n",
    "    area = get_area(village_id)\n",
    "    landscan_den = get_landscan_density(lat, long, area)\n",
    "    \n",
    "    \n",
    "    # Code below is to collect metrics \n",
    "    density_landscan.append(landscan_den)\n",
    "    density_census.append(census_den)\n",
    "    \n",
    "    \n",
    "    rmse += ((landscan_den - census_den)*(landscan_den - census_den))\n",
    "    count_trials += 1\n",
    "    landscan_class = get_class(landscan_den)\n",
    "    census_class = get_class(census_den)\n",
    "    class_landscan.append(landscan_class)\n",
    "    class_census.append(census_class)\n",
    "    count_per_class_landscan[landscan_class] += 1\n",
    "    count_per_class_census[census_class] += 1\n",
    "    if (landscan_class == census_class):\n",
    "        correct_trials += 1\n",
    "    else:\n",
    "        count_incorrect_trials += 1\n",
    "        differences[(census_class - landscan_class) + 12] += 1\n",
    "        difference += abs(census_class - landscan_class)\n",
    "\n"
   ]
  },
  {
   "cell_type": "code",
   "execution_count": 23,
   "metadata": {},
   "outputs": [
    {
     "name": "stdout",
     "output_type": "stream",
     "text": [
      "Correct predictions:  0.22065192614542967\n",
      "Average Error:  1.91985960807\n",
      "RMSE:  1453.7397996725804\n"
     ]
    }
   ],
   "source": [
    "print(\"Correct predictions: \", correct_trials*1.0/count_trials)\n",
    "print(\"Average Error: \", difference*1.0/count_incorrect_trials)\n",
    "print(\"RMSE: \", math.sqrt(rmse/count_trials))\n",
    "# print(\"-12 to 12 class difference counts\", differences)"
   ]
  },
  {
   "cell_type": "code",
   "execution_count": 24,
   "metadata": {},
   "outputs": [
    {
     "data": {
      "text/plain": [
       "<Container object of 13 artists>"
      ]
     },
     "execution_count": 24,
     "metadata": {},
     "output_type": "execute_result"
    },
    {
     "data": {
      "image/png": "[encoded data removed]",
      "text/plain": [
       "<matplotlib.figure.Figure at 0x7f3b87420278>"
      ]
     },
     "metadata": {},
     "output_type": "display_data"
    }
   ],
   "source": [
    "plt.bar(range(13), count_per_class_landscan)"
   ]
  },
  {
   "cell_type": "code",
   "execution_count": null,
   "metadata": {},
   "outputs": [],
   "source": []
  },
  {
   "cell_type": "code",
   "execution_count": 25,
   "metadata": {},
   "outputs": [
    {
     "data": {
      "text/plain": [
       "<Container object of 13 artists>"
      ]
     },
     "execution_count": 25,
     "metadata": {},
     "output_type": "execute_result"
    },
    {
     "data": {
      "image/png": "[encoded data removed]",
      "text/plain": [
       "<matplotlib.figure.Figure at 0x7f3b845eb9e8>"
      ]
     },
     "metadata": {},
     "output_type": "display_data"
    }
   ],
   "source": [
    "plt.bar(range(13), count_per_class_census)"
   ]
  },
  {
   "cell_type": "code",
   "execution_count": 15,
   "metadata": {},
   "outputs": [],
   "source": [
    "# import numpy as np\n",
    "# import matplotlib.pyplot as plt\n",
    "\n",
    "# plt.plot(density_census, density_landscan,'ro')\n",
    "# plt.show"
   ]
  },
  {
   "cell_type": "code",
   "execution_count": 16,
   "metadata": {},
   "outputs": [],
   "source": [
    "# fig, ax = plt.subplots()\n",
    "# fit = np.polyfit(density_census, density_landscan, deg=1)\n",
    "# print(fit)\n",
    "# ax.plot(density_census, fit[0] * density_census + fit[1], color='red')\n",
    "# plt.scatter(density_census, density_landscan, marker='o');"
   ]
  },
  {
   "cell_type": "code",
   "execution_count": 17,
   "metadata": {},
   "outputs": [],
   "source": [
    "# plt.scatter(density_census, density_landscan, marker='+');\n",
    "# plt.plot(np.unique(density_census), np.poly1d(np.polyfit(density_census, density_landscan, 1))(np.unique(density_census)))\n",
    "# plt.ylim(0, 2000)\n",
    "# plt.xlim(0, 2000)"
   ]
  },
  {
   "cell_type": "code",
   "execution_count": 18,
   "metadata": {},
   "outputs": [],
   "source": [
    "# idx = np.random.choice(np.arange(len(density_census)), 1000, replace=False)\n",
    "# x_sample = np.take(density_census, idx)\n",
    "# y_sample = np.take(density_landscan, idx)\n",
    "# plt.scatter(x_sample, y_sample, marker='+');\n",
    "# plt.plot(np.unique(x_sample), np.poly1d(np.polyfit(x_sample, y_sample, 1))(np.unique(x_sample)))\n",
    "# plt.ylim(0, 2000)\n",
    "# plt.xlim(0, 2000)"
   ]
  },
  {
   "cell_type": "code",
   "execution_count": 19,
   "metadata": {},
   "outputs": [],
   "source": [
    "from sklearn.metrics import confusion_matrix\n",
    "y_true = class_census\n",
    "y_pred = class_landscan\n",
    "cm = confusion_matrix(y_true, y_pred)"
   ]
  },
  {
   "cell_type": "code",
   "execution_count": 20,
   "metadata": {},
   "outputs": [
    {
     "name": "stdout",
     "output_type": "stream",
     "text": [
      "Confusion matrix, without normalization\n",
      "[[   5   12   23  168   53   15   30]\n",
      " [  22   53   58  362  182   55   76]\n",
      " [  72  179  274  948  436  121  212]\n",
      " [ 183  392  555 1604  687  207  312]\n",
      " [ 168  320  526 1323  653  293  431]\n",
      " [  77  155  236  456  339  193  339]\n",
      " [  28   27   38  103   59   28   73]]\n",
      "Normalized confusion matrix\n",
      "[[ 0.02  0.04  0.08  0.55  0.17  0.05  0.1 ]\n",
      " [ 0.03  0.07  0.07  0.45  0.23  0.07  0.09]\n",
      " [ 0.03  0.08  0.12  0.42  0.19  0.05  0.09]\n",
      " [ 0.05  0.1   0.14  0.41  0.17  0.05  0.08]\n",
      " [ 0.05  0.09  0.14  0.36  0.18  0.08  0.12]\n",
      " [ 0.04  0.09  0.13  0.25  0.19  0.11  0.19]\n",
      " [ 0.08  0.08  0.11  0.29  0.17  0.08  0.21]]\n"
     ]
    },
    {
     "data": {
      "image/png": "[encoded data removed]",
      "text/plain": [
       "<matplotlib.figure.Figure at 0x7f3b87420780>"
      ]
     },
     "metadata": {},
     "output_type": "display_data"
    },
    {
     "data": {
      "image/png": "[encoded data removed]",
      "text/plain": [
       "<matplotlib.figure.Figure at 0x7f3b84b2bc88>"
      ]
     },
     "metadata": {},
     "output_type": "display_data"
    }
   ],
   "source": [
    "# This whole block is just to generate confusion matrices \n",
    "\n",
    "\n",
    "\n",
    "import itertools\n",
    "import numpy as np\n",
    "import matplotlib.pyplot as plt\n",
    "\n",
    "from sklearn import svm, datasets\n",
    "from sklearn.model_selection import train_test_split\n",
    "from sklearn.metrics import confusion_matrix\n",
    "\n",
    "# import some data to play with\n",
    "iris = datasets.load_iris()\n",
    "X = iris.data\n",
    "y = iris.target\n",
    "class_names = iris.target_names\n",
    "\n",
    "# Split the data into a training set and a test set\n",
    "X_train, X_test, y_train, y_test = train_test_split(X, y, random_state=0)\n",
    "\n",
    "# Run classifier, using a model that is too regularized (C too low) to see\n",
    "# the impact on the results\n",
    "classifier = svm.SVC(kernel='linear', C=0.01)\n",
    "y_pred = classifier.fit(X_train, y_train).predict(X_test)\n",
    "\n",
    "\n",
    "def plot_confusion_matrix(cm, classes,\n",
    "                          normalize=False,\n",
    "                          title='Confusion matrix',\n",
    "                          cmap=plt.cm.Blues):\n",
    "    \"\"\"\n",
    "    This function prints and plots the confusion matrix.\n",
    "    Normalization can be applied by setting `normalize=True`.\n",
    "    \"\"\"\n",
    "    if normalize:\n",
    "        cm = cm.astype('float') / cm.sum(axis=1)[:, np.newaxis]\n",
    "        print(\"Normalized confusion matrix\")\n",
    "    else:\n",
    "        print('Confusion matrix, without normalization')\n",
    "\n",
    "    print(cm)\n",
    "\n",
    "    plt.imshow(cm, interpolation='nearest', cmap=cmap)\n",
    "    plt.title(title)\n",
    "    plt.colorbar()\n",
    "    tick_marks = np.arange(len(classes))\n",
    "    plt.xticks(tick_marks, classes, rotation=45)\n",
    "    plt.yticks(tick_marks, classes)\n",
    "\n",
    "    fmt = '.2f' if normalize else 'd'\n",
    "    thresh = cm.max() / 2.\n",
    "    for i, j in itertools.product(range(cm.shape[0]), range(cm.shape[1])):\n",
    "        plt.text(j, i, format(cm[i, j], fmt),\n",
    "                 horizontalalignment=\"center\",\n",
    "                 color=\"white\" if cm[i, j] > thresh else \"black\")\n",
    "\n",
    "    plt.tight_layout()\n",
    "    plt.ylabel('True label')\n",
    "    plt.xlabel('Predicted label')\n",
    "\n",
    "# Compute confusion matrix\n",
    "cnf_matrix = confusion_matrix(y_test, y_pred)\n",
    "np.set_printoptions(precision=2)\n",
    "\n",
    "# Plot non-normalized confusion matrix\n",
    "plt.figure()\n",
    "plot_confusion_matrix(cm, classes=range(1,7),\n",
    "                      title='Confusion matrix')\n",
    "# Plot normalized confusion matrix\n",
    "plt.figure()\n",
    "plot_confusion_matrix(cm, classes=range(1,7), normalize=True,\n",
    "                      title='Normalized confusion matrix')\n",
    "\n",
    "plt.show()"
   ]
  },
  {
   "cell_type": "code",
   "execution_count": null,
   "metadata": {},
   "outputs": [],
   "source": []
  }
 ],
 "metadata": {
  "kernelspec": {
   "display_name": "Python 3",
   "language": "python",
   "name": "python3"
  },
  "language_info": {
   "codemirror_mode": {
    "name": "ipython",
    "version": 3
   },
   "file_extension": ".py",
   "mimetype": "text/x-python",
   "name": "python",
   "nbconvert_exporter": "python",
   "pygments_lexer": "ipython3",
   "version": "3.5.2"
  }
 },
 "nbformat": 4,
 "nbformat_minor": 2
}
